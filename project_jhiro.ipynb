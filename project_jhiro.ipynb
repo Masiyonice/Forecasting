{
  "nbformat": 4,
  "nbformat_minor": 0,
  "metadata": {
    "colab": {
      "name": "project jhiro.ipynb",
      "provenance": [],
      "collapsed_sections": [
        "hcjbcAXEijaF",
        "7yqmCm0ljiVU",
        "yOSamN5-meAp",
        "C_9mSqxYxD4A",
        "T94-W_XbmHTB",
        "p8y_c5crjo8y",
        "wmyfVrdJ42WC",
        "Drke9f9vjzOi",
        "rc6m1yNsp_JC",
        "gOeVIIlrkKh5",
        "9YiYwoXvZ0EK",
        "HVtB6NHquLKK"
      ],
      "toc_visible": true
    },
    "kernelspec": {
      "name": "python3",
      "display_name": "Python 3"
    },
    "language_info": {
      "name": "python"
    }
  },
  "cells": [
    {
      "cell_type": "markdown",
      "source": [
        "#Data Checking"
      ],
      "metadata": {
        "id": "hcjbcAXEijaF"
      }
    },
    {
      "cell_type": "code",
      "execution_count": null,
      "metadata": {
        "id": "uMn6t2rCgx1U"
      },
      "outputs": [],
      "source": [
        "import pandas as pd\n",
        "import numpy as np"
      ]
    },
    {
      "cell_type": "code",
      "source": [
        "import matplotlib.pyplot as plt\n",
        "import seaborn as sns"
      ],
      "metadata": {
        "id": "EGhBQKsGuBjo"
      },
      "execution_count": null,
      "outputs": []
    },
    {
      "cell_type": "code",
      "source": [
        "import datetime as dt"
      ],
      "metadata": {
        "id": "0FEOl3baNup5"
      },
      "execution_count": null,
      "outputs": []
    },
    {
      "cell_type": "code",
      "source": [
        "from sklearn.metrics import mean_absolute_error\n",
        "from sklearn.metrics import mean_squared_error\n",
        "from sklearn.metrics import r2_score"
      ],
      "metadata": {
        "id": "GpjhuakrfajL"
      },
      "execution_count": null,
      "outputs": []
    },
    {
      "cell_type": "code",
      "source": [
        "##Read File\n",
        "df1 = pd.read_csv(\"/content/data_donasi.csv\")"
      ],
      "metadata": {
        "id": "0CZjCJtEg43M"
      },
      "execution_count": null,
      "outputs": []
    },
    {
      "cell_type": "code",
      "source": [
        "##Check File\n",
        "df1.head()"
      ],
      "metadata": {
        "id": "mXkR5zreig7N",
        "colab": {
          "base_uri": "https://localhost:8080/",
          "height": 337
        },
        "outputId": "3903f260-688e-4b85-bcb1-a76dc83185ff"
      },
      "execution_count": null,
      "outputs": [
        {
          "output_type": "execute_result",
          "data": {
            "text/html": [
              "\n",
              "  <div id=\"df-50d55ab5-8ecd-4c99-9fa4-8cc4ca023f3d\">\n",
              "    <div class=\"colab-df-container\">\n",
              "      <div>\n",
              "<style scoped>\n",
              "    .dataframe tbody tr th:only-of-type {\n",
              "        vertical-align: middle;\n",
              "    }\n",
              "\n",
              "    .dataframe tbody tr th {\n",
              "        vertical-align: top;\n",
              "    }\n",
              "\n",
              "    .dataframe thead th {\n",
              "        text-align: right;\n",
              "    }\n",
              "</style>\n",
              "<table border=\"1\" class=\"dataframe\">\n",
              "  <thead>\n",
              "    <tr style=\"text-align: right;\">\n",
              "      <th></th>\n",
              "      <th>ID_Donatur</th>\n",
              "      <th>Nama_Donatur</th>\n",
              "      <th>muzaki</th>\n",
              "      <th>ID_Donasi</th>\n",
              "      <th>Tanggal</th>\n",
              "      <th>Akad</th>\n",
              "      <th>Program</th>\n",
              "      <th>Metode_Pembayaran</th>\n",
              "      <th>Nominal_Donasi</th>\n",
              "      <th>Kantor_Pelayanan</th>\n",
              "    </tr>\n",
              "  </thead>\n",
              "  <tbody>\n",
              "    <tr>\n",
              "      <th>0</th>\n",
              "      <td>6DCCB702-33E8-E520-6409-AA1B5CFCAA2D</td>\n",
              "      <td>RITA</td>\n",
              "      <td>RITA</td>\n",
              "      <td>00040613-FCFE-591B-F48C-6FB3C7006977</td>\n",
              "      <td>2019-10-19 17:51:00</td>\n",
              "      <td>Sedekah</td>\n",
              "      <td>Asrama Yatim</td>\n",
              "      <td>EDC</td>\n",
              "      <td>500000</td>\n",
              "      <td>KP029</td>\n",
              "    </tr>\n",
              "    <tr>\n",
              "      <th>1</th>\n",
              "      <td>672ED199-1E89-9A5B-2A67-5227326E504A</td>\n",
              "      <td>ADJI WIDODO</td>\n",
              "      <td>ADJI WIDODO</td>\n",
              "      <td>0008A1AF-339A-A6EB-4B70-B43186819F4D</td>\n",
              "      <td>2021-08-29 17:33:00</td>\n",
              "      <td>Sedekah</td>\n",
              "      <td>LEBARAN YATIM 2021</td>\n",
              "      <td>EDC</td>\n",
              "      <td>2000000</td>\n",
              "      <td>KP041</td>\n",
              "    </tr>\n",
              "    <tr>\n",
              "      <th>2</th>\n",
              "      <td>82A3E3CC-10C9-EC52-0956-8106F39118BF</td>\n",
              "      <td>AGUS PRATOMO OKTORIANTO</td>\n",
              "      <td>AGUS PRATOMO OKTORIANTO</td>\n",
              "      <td>000AD04E-1D2F-4636-370A-322AD9106DE2</td>\n",
              "      <td>2019-11-03 16:19:00</td>\n",
              "      <td>Sedekah</td>\n",
              "      <td>Pangan Santri Yatim</td>\n",
              "      <td>EDC</td>\n",
              "      <td>5000000</td>\n",
              "      <td>KP005</td>\n",
              "    </tr>\n",
              "    <tr>\n",
              "      <th>3</th>\n",
              "      <td>9D1B61F4-8D4F-1EDE-FF67-99C9D24310D7</td>\n",
              "      <td>kel.ibu novia</td>\n",
              "      <td>Ibu novia</td>\n",
              "      <td>000B891E-C6F3-647A-986D-15291F793385</td>\n",
              "      <td>2019-05-01 14:04:00</td>\n",
              "      <td>Sedekah</td>\n",
              "      <td>NaN</td>\n",
              "      <td>EDC</td>\n",
              "      <td>500000</td>\n",
              "      <td>KP015</td>\n",
              "    </tr>\n",
              "    <tr>\n",
              "      <th>4</th>\n",
              "      <td>1D953344-B288-AE6C-4DE1-FAF39C14D653</td>\n",
              "      <td>HENNI HAMIDAH,</td>\n",
              "      <td>BUNDA HENNI HAMIDAH</td>\n",
              "      <td>000FF0C3-73CC-8E00-B150-A99261F61A02</td>\n",
              "      <td>2020-06-01 14:29:00</td>\n",
              "      <td>Infaq</td>\n",
              "      <td>Sedekah dan Infaq  untuk Anak Yatim</td>\n",
              "      <td>EDC</td>\n",
              "      <td>500000</td>\n",
              "      <td>KP036</td>\n",
              "    </tr>\n",
              "  </tbody>\n",
              "</table>\n",
              "</div>\n",
              "      <button class=\"colab-df-convert\" onclick=\"convertToInteractive('df-50d55ab5-8ecd-4c99-9fa4-8cc4ca023f3d')\"\n",
              "              title=\"Convert this dataframe to an interactive table.\"\n",
              "              style=\"display:none;\">\n",
              "        \n",
              "  <svg xmlns=\"http://www.w3.org/2000/svg\" height=\"24px\"viewBox=\"0 0 24 24\"\n",
              "       width=\"24px\">\n",
              "    <path d=\"M0 0h24v24H0V0z\" fill=\"none\"/>\n",
              "    <path d=\"M18.56 5.44l.94 2.06.94-2.06 2.06-.94-2.06-.94-.94-2.06-.94 2.06-2.06.94zm-11 1L8.5 8.5l.94-2.06 2.06-.94-2.06-.94L8.5 2.5l-.94 2.06-2.06.94zm10 10l.94 2.06.94-2.06 2.06-.94-2.06-.94-.94-2.06-.94 2.06-2.06.94z\"/><path d=\"M17.41 7.96l-1.37-1.37c-.4-.4-.92-.59-1.43-.59-.52 0-1.04.2-1.43.59L10.3 9.45l-7.72 7.72c-.78.78-.78 2.05 0 2.83L4 21.41c.39.39.9.59 1.41.59.51 0 1.02-.2 1.41-.59l7.78-7.78 2.81-2.81c.8-.78.8-2.07 0-2.86zM5.41 20L4 18.59l7.72-7.72 1.47 1.35L5.41 20z\"/>\n",
              "  </svg>\n",
              "      </button>\n",
              "      \n",
              "  <style>\n",
              "    .colab-df-container {\n",
              "      display:flex;\n",
              "      flex-wrap:wrap;\n",
              "      gap: 12px;\n",
              "    }\n",
              "\n",
              "    .colab-df-convert {\n",
              "      background-color: #E8F0FE;\n",
              "      border: none;\n",
              "      border-radius: 50%;\n",
              "      cursor: pointer;\n",
              "      display: none;\n",
              "      fill: #1967D2;\n",
              "      height: 32px;\n",
              "      padding: 0 0 0 0;\n",
              "      width: 32px;\n",
              "    }\n",
              "\n",
              "    .colab-df-convert:hover {\n",
              "      background-color: #E2EBFA;\n",
              "      box-shadow: 0px 1px 2px rgba(60, 64, 67, 0.3), 0px 1px 3px 1px rgba(60, 64, 67, 0.15);\n",
              "      fill: #174EA6;\n",
              "    }\n",
              "\n",
              "    [theme=dark] .colab-df-convert {\n",
              "      background-color: #3B4455;\n",
              "      fill: #D2E3FC;\n",
              "    }\n",
              "\n",
              "    [theme=dark] .colab-df-convert:hover {\n",
              "      background-color: #434B5C;\n",
              "      box-shadow: 0px 1px 3px 1px rgba(0, 0, 0, 0.15);\n",
              "      filter: drop-shadow(0px 1px 2px rgba(0, 0, 0, 0.3));\n",
              "      fill: #FFFFFF;\n",
              "    }\n",
              "  </style>\n",
              "\n",
              "      <script>\n",
              "        const buttonEl =\n",
              "          document.querySelector('#df-50d55ab5-8ecd-4c99-9fa4-8cc4ca023f3d button.colab-df-convert');\n",
              "        buttonEl.style.display =\n",
              "          google.colab.kernel.accessAllowed ? 'block' : 'none';\n",
              "\n",
              "        async function convertToInteractive(key) {\n",
              "          const element = document.querySelector('#df-50d55ab5-8ecd-4c99-9fa4-8cc4ca023f3d');\n",
              "          const dataTable =\n",
              "            await google.colab.kernel.invokeFunction('convertToInteractive',\n",
              "                                                     [key], {});\n",
              "          if (!dataTable) return;\n",
              "\n",
              "          const docLinkHtml = 'Like what you see? Visit the ' +\n",
              "            '<a target=\"_blank\" href=https://colab.research.google.com/notebooks/data_table.ipynb>data table notebook</a>'\n",
              "            + ' to learn more about interactive tables.';\n",
              "          element.innerHTML = '';\n",
              "          dataTable['output_type'] = 'display_data';\n",
              "          await google.colab.output.renderOutput(dataTable, element);\n",
              "          const docLink = document.createElement('div');\n",
              "          docLink.innerHTML = docLinkHtml;\n",
              "          element.appendChild(docLink);\n",
              "        }\n",
              "      </script>\n",
              "    </div>\n",
              "  </div>\n",
              "  "
            ],
            "text/plain": [
              "                             ID_Donatur  ... Kantor_Pelayanan\n",
              "0  6DCCB702-33E8-E520-6409-AA1B5CFCAA2D  ...            KP029\n",
              "1  672ED199-1E89-9A5B-2A67-5227326E504A  ...            KP041\n",
              "2  82A3E3CC-10C9-EC52-0956-8106F39118BF  ...            KP005\n",
              "3  9D1B61F4-8D4F-1EDE-FF67-99C9D24310D7  ...            KP015\n",
              "4  1D953344-B288-AE6C-4DE1-FAF39C14D653  ...            KP036\n",
              "\n",
              "[5 rows x 10 columns]"
            ]
          },
          "metadata": {},
          "execution_count": 6
        }
      ]
    },
    {
      "cell_type": "code",
      "source": [
        "##Tipe Data\n",
        "df1.dtypes"
      ],
      "metadata": {
        "id": "-MneLSBrjGyN",
        "colab": {
          "base_uri": "https://localhost:8080/"
        },
        "outputId": "431656e2-8ba1-4ccb-bd70-4a40a57e9098"
      },
      "execution_count": null,
      "outputs": [
        {
          "output_type": "execute_result",
          "data": {
            "text/plain": [
              "ID_Donatur           object\n",
              "Nama_Donatur         object\n",
              "muzaki               object\n",
              "ID_Donasi            object\n",
              "Tanggal              object\n",
              "Akad                 object\n",
              "Program              object\n",
              "Metode_Pembayaran    object\n",
              "Nominal_Donasi        int64\n",
              "Kantor_Pelayanan     object\n",
              "dtype: object"
            ]
          },
          "metadata": {},
          "execution_count": 7
        }
      ]
    },
    {
      "cell_type": "code",
      "source": [
        "##Banyak Data\n",
        "df1.shape"
      ],
      "metadata": {
        "id": "EqGdQloFjQCN",
        "colab": {
          "base_uri": "https://localhost:8080/"
        },
        "outputId": "16d90723-f5f7-46b5-d6a7-5d70bc17b003"
      },
      "execution_count": null,
      "outputs": [
        {
          "output_type": "execute_result",
          "data": {
            "text/plain": [
              "(277442, 10)"
            ]
          },
          "metadata": {},
          "execution_count": 8
        }
      ]
    },
    {
      "cell_type": "code",
      "source": [
        "##Check nilai kosong\n",
        "df1.isna().sum()"
      ],
      "metadata": {
        "id": "ZxuZvyF1jYSM",
        "colab": {
          "base_uri": "https://localhost:8080/"
        },
        "outputId": "ca71877e-bfce-4e2d-fa11-2599fb84d562"
      },
      "execution_count": null,
      "outputs": [
        {
          "output_type": "execute_result",
          "data": {
            "text/plain": [
              "ID_Donatur                0\n",
              "Nama_Donatur              1\n",
              "muzaki                 1806\n",
              "ID_Donasi                 0\n",
              "Tanggal                   0\n",
              "Akad                      0\n",
              "Program              170014\n",
              "Metode_Pembayaran         0\n",
              "Nominal_Donasi            0\n",
              "Kantor_Pelayanan          0\n",
              "dtype: int64"
            ]
          },
          "metadata": {},
          "execution_count": 9
        }
      ]
    },
    {
      "cell_type": "code",
      "source": [
        "##Handling missing value\n",
        "df1[\"Nama_Donatur\"] = df1[\"Nama_Donatur\"].fillna(\"Unknown\")"
      ],
      "metadata": {
        "id": "JoREFeuKmei8"
      },
      "execution_count": null,
      "outputs": []
    },
    {
      "cell_type": "code",
      "source": [
        "##Handling missing value\n",
        "df1[\"muzaki\"] = df1[\"muzaki\"].fillna(\"Unknown\")"
      ],
      "metadata": {
        "id": "o_kXQbpHm0H7"
      },
      "execution_count": null,
      "outputs": []
    },
    {
      "cell_type": "code",
      "source": [
        "##Handling missing value\n",
        "df1[\"Program\"] = df1[\"Program\"].fillna(\"No Category\")"
      ],
      "metadata": {
        "id": "2HVUMmnMnG1j"
      },
      "execution_count": null,
      "outputs": []
    },
    {
      "cell_type": "code",
      "source": [
        "##Drop Duplicate\n",
        "df1.drop_duplicates(inplace= True)"
      ],
      "metadata": {
        "id": "X-deVRNBnxVz"
      },
      "execution_count": null,
      "outputs": []
    },
    {
      "cell_type": "code",
      "source": [
        "##Check Missing Value\n",
        "df1.isna().sum()"
      ],
      "metadata": {
        "id": "21OInR6wqiuR",
        "colab": {
          "base_uri": "https://localhost:8080/"
        },
        "outputId": "024fd014-d9fa-4ad6-8dda-ad476c8cafdf"
      },
      "execution_count": null,
      "outputs": [
        {
          "output_type": "execute_result",
          "data": {
            "text/plain": [
              "ID_Donatur           0\n",
              "Nama_Donatur         0\n",
              "muzaki               0\n",
              "ID_Donasi            0\n",
              "Tanggal              0\n",
              "Akad                 0\n",
              "Program              0\n",
              "Metode_Pembayaran    0\n",
              "Nominal_Donasi       0\n",
              "Kantor_Pelayanan     0\n",
              "dtype: int64"
            ]
          },
          "metadata": {},
          "execution_count": 14
        }
      ]
    },
    {
      "cell_type": "code",
      "source": [
        "df1.sort_values(by= 'Tanggal',inplace= True)"
      ],
      "metadata": {
        "id": "av0URNi9Ek57"
      },
      "execution_count": null,
      "outputs": []
    },
    {
      "cell_type": "code",
      "source": [
        "df1.head(3)"
      ],
      "metadata": {
        "id": "YitKzOqCE36c",
        "colab": {
          "base_uri": "https://localhost:8080/",
          "height": 240
        },
        "outputId": "93015129-45ed-41d1-e208-f5c39b985d13"
      },
      "execution_count": null,
      "outputs": [
        {
          "output_type": "execute_result",
          "data": {
            "text/html": [
              "\n",
              "  <div id=\"df-2ea29167-5494-4664-809c-e9ab0c07df12\">\n",
              "    <div class=\"colab-df-container\">\n",
              "      <div>\n",
              "<style scoped>\n",
              "    .dataframe tbody tr th:only-of-type {\n",
              "        vertical-align: middle;\n",
              "    }\n",
              "\n",
              "    .dataframe tbody tr th {\n",
              "        vertical-align: top;\n",
              "    }\n",
              "\n",
              "    .dataframe thead th {\n",
              "        text-align: right;\n",
              "    }\n",
              "</style>\n",
              "<table border=\"1\" class=\"dataframe\">\n",
              "  <thead>\n",
              "    <tr style=\"text-align: right;\">\n",
              "      <th></th>\n",
              "      <th>ID_Donatur</th>\n",
              "      <th>Nama_Donatur</th>\n",
              "      <th>muzaki</th>\n",
              "      <th>ID_Donasi</th>\n",
              "      <th>Tanggal</th>\n",
              "      <th>Akad</th>\n",
              "      <th>Program</th>\n",
              "      <th>Metode_Pembayaran</th>\n",
              "      <th>Nominal_Donasi</th>\n",
              "      <th>Kantor_Pelayanan</th>\n",
              "    </tr>\n",
              "  </thead>\n",
              "  <tbody>\n",
              "    <tr>\n",
              "      <th>159617</th>\n",
              "      <td>0AD64182-16C2-9675-EB4A-2F4C75A0AD49</td>\n",
              "      <td>EFENDI</td>\n",
              "      <td>Efendi</td>\n",
              "      <td>800303FA-C94B-DF0A-7C44-0C37F8F3B1CF</td>\n",
              "      <td>2019-01-01 20:45:00</td>\n",
              "      <td>Sedekah</td>\n",
              "      <td>No Category</td>\n",
              "      <td>Tunai</td>\n",
              "      <td>200000</td>\n",
              "      <td>KP044</td>\n",
              "    </tr>\n",
              "    <tr>\n",
              "      <th>245763</th>\n",
              "      <td>0427EF05-ABFD-EB37-243C-580C687BE822</td>\n",
              "      <td>EMI ANGGRAENI</td>\n",
              "      <td>EMI ANGGRAENI</td>\n",
              "      <td>DD51B141-16D1-CDA0-22F8-40E75D0799D1</td>\n",
              "      <td>2019-01-02 16:00:00</td>\n",
              "      <td>Zakat</td>\n",
              "      <td>No Category</td>\n",
              "      <td>Tunai</td>\n",
              "      <td>200000</td>\n",
              "      <td>KP044</td>\n",
              "    </tr>\n",
              "    <tr>\n",
              "      <th>209441</th>\n",
              "      <td>FE57CE3F-880E-9D3B-3781-035B4B7879B0</td>\n",
              "      <td>Enggi W</td>\n",
              "      <td>Enggi W</td>\n",
              "      <td>B60AEA85-8EB4-29BF-18D0-3A9B4C3FF639</td>\n",
              "      <td>2019-01-02 16:00:00</td>\n",
              "      <td>Zakat</td>\n",
              "      <td>No Category</td>\n",
              "      <td>Tunai</td>\n",
              "      <td>100000</td>\n",
              "      <td>KP044</td>\n",
              "    </tr>\n",
              "  </tbody>\n",
              "</table>\n",
              "</div>\n",
              "      <button class=\"colab-df-convert\" onclick=\"convertToInteractive('df-2ea29167-5494-4664-809c-e9ab0c07df12')\"\n",
              "              title=\"Convert this dataframe to an interactive table.\"\n",
              "              style=\"display:none;\">\n",
              "        \n",
              "  <svg xmlns=\"http://www.w3.org/2000/svg\" height=\"24px\"viewBox=\"0 0 24 24\"\n",
              "       width=\"24px\">\n",
              "    <path d=\"M0 0h24v24H0V0z\" fill=\"none\"/>\n",
              "    <path d=\"M18.56 5.44l.94 2.06.94-2.06 2.06-.94-2.06-.94-.94-2.06-.94 2.06-2.06.94zm-11 1L8.5 8.5l.94-2.06 2.06-.94-2.06-.94L8.5 2.5l-.94 2.06-2.06.94zm10 10l.94 2.06.94-2.06 2.06-.94-2.06-.94-.94-2.06-.94 2.06-2.06.94z\"/><path d=\"M17.41 7.96l-1.37-1.37c-.4-.4-.92-.59-1.43-.59-.52 0-1.04.2-1.43.59L10.3 9.45l-7.72 7.72c-.78.78-.78 2.05 0 2.83L4 21.41c.39.39.9.59 1.41.59.51 0 1.02-.2 1.41-.59l7.78-7.78 2.81-2.81c.8-.78.8-2.07 0-2.86zM5.41 20L4 18.59l7.72-7.72 1.47 1.35L5.41 20z\"/>\n",
              "  </svg>\n",
              "      </button>\n",
              "      \n",
              "  <style>\n",
              "    .colab-df-container {\n",
              "      display:flex;\n",
              "      flex-wrap:wrap;\n",
              "      gap: 12px;\n",
              "    }\n",
              "\n",
              "    .colab-df-convert {\n",
              "      background-color: #E8F0FE;\n",
              "      border: none;\n",
              "      border-radius: 50%;\n",
              "      cursor: pointer;\n",
              "      display: none;\n",
              "      fill: #1967D2;\n",
              "      height: 32px;\n",
              "      padding: 0 0 0 0;\n",
              "      width: 32px;\n",
              "    }\n",
              "\n",
              "    .colab-df-convert:hover {\n",
              "      background-color: #E2EBFA;\n",
              "      box-shadow: 0px 1px 2px rgba(60, 64, 67, 0.3), 0px 1px 3px 1px rgba(60, 64, 67, 0.15);\n",
              "      fill: #174EA6;\n",
              "    }\n",
              "\n",
              "    [theme=dark] .colab-df-convert {\n",
              "      background-color: #3B4455;\n",
              "      fill: #D2E3FC;\n",
              "    }\n",
              "\n",
              "    [theme=dark] .colab-df-convert:hover {\n",
              "      background-color: #434B5C;\n",
              "      box-shadow: 0px 1px 3px 1px rgba(0, 0, 0, 0.15);\n",
              "      filter: drop-shadow(0px 1px 2px rgba(0, 0, 0, 0.3));\n",
              "      fill: #FFFFFF;\n",
              "    }\n",
              "  </style>\n",
              "\n",
              "      <script>\n",
              "        const buttonEl =\n",
              "          document.querySelector('#df-2ea29167-5494-4664-809c-e9ab0c07df12 button.colab-df-convert');\n",
              "        buttonEl.style.display =\n",
              "          google.colab.kernel.accessAllowed ? 'block' : 'none';\n",
              "\n",
              "        async function convertToInteractive(key) {\n",
              "          const element = document.querySelector('#df-2ea29167-5494-4664-809c-e9ab0c07df12');\n",
              "          const dataTable =\n",
              "            await google.colab.kernel.invokeFunction('convertToInteractive',\n",
              "                                                     [key], {});\n",
              "          if (!dataTable) return;\n",
              "\n",
              "          const docLinkHtml = 'Like what you see? Visit the ' +\n",
              "            '<a target=\"_blank\" href=https://colab.research.google.com/notebooks/data_table.ipynb>data table notebook</a>'\n",
              "            + ' to learn more about interactive tables.';\n",
              "          element.innerHTML = '';\n",
              "          dataTable['output_type'] = 'display_data';\n",
              "          await google.colab.output.renderOutput(dataTable, element);\n",
              "          const docLink = document.createElement('div');\n",
              "          docLink.innerHTML = docLinkHtml;\n",
              "          element.appendChild(docLink);\n",
              "        }\n",
              "      </script>\n",
              "    </div>\n",
              "  </div>\n",
              "  "
            ],
            "text/plain": [
              "                                  ID_Donatur  ... Kantor_Pelayanan\n",
              "159617  0AD64182-16C2-9675-EB4A-2F4C75A0AD49  ...            KP044\n",
              "245763  0427EF05-ABFD-EB37-243C-580C687BE822  ...            KP044\n",
              "209441  FE57CE3F-880E-9D3B-3781-035B4B7879B0  ...            KP044\n",
              "\n",
              "[3 rows x 10 columns]"
            ]
          },
          "metadata": {},
          "execution_count": 16
        }
      ]
    },
    {
      "cell_type": "code",
      "source": [
        "df1.tail(3)"
      ],
      "metadata": {
        "id": "r-VH4FumE-qb",
        "colab": {
          "base_uri": "https://localhost:8080/",
          "height": 240
        },
        "outputId": "8278efc6-420f-420e-87ed-ba63221b1fde"
      },
      "execution_count": null,
      "outputs": [
        {
          "output_type": "execute_result",
          "data": {
            "text/html": [
              "\n",
              "  <div id=\"df-e683c050-2518-4545-bef2-8ad9130a84b7\">\n",
              "    <div class=\"colab-df-container\">\n",
              "      <div>\n",
              "<style scoped>\n",
              "    .dataframe tbody tr th:only-of-type {\n",
              "        vertical-align: middle;\n",
              "    }\n",
              "\n",
              "    .dataframe tbody tr th {\n",
              "        vertical-align: top;\n",
              "    }\n",
              "\n",
              "    .dataframe thead th {\n",
              "        text-align: right;\n",
              "    }\n",
              "</style>\n",
              "<table border=\"1\" class=\"dataframe\">\n",
              "  <thead>\n",
              "    <tr style=\"text-align: right;\">\n",
              "      <th></th>\n",
              "      <th>ID_Donatur</th>\n",
              "      <th>Nama_Donatur</th>\n",
              "      <th>muzaki</th>\n",
              "      <th>ID_Donasi</th>\n",
              "      <th>Tanggal</th>\n",
              "      <th>Akad</th>\n",
              "      <th>Program</th>\n",
              "      <th>Metode_Pembayaran</th>\n",
              "      <th>Nominal_Donasi</th>\n",
              "      <th>Kantor_Pelayanan</th>\n",
              "    </tr>\n",
              "  </thead>\n",
              "  <tbody>\n",
              "    <tr>\n",
              "      <th>12104</th>\n",
              "      <td>5B7AE406-6E40-5EB8-5BCD-C13EF3A2C7CD</td>\n",
              "      <td>ZENOBIA PT  GEODIS</td>\n",
              "      <td>ZENOBIA</td>\n",
              "      <td>0208318D-D1EB-7586-4D2C-06D3E420FB87</td>\n",
              "      <td>2022-01-17 13:39:00</td>\n",
              "      <td>Sedekah</td>\n",
              "      <td>No Category</td>\n",
              "      <td>Transfer</td>\n",
              "      <td>500000</td>\n",
              "      <td>KP005</td>\n",
              "    </tr>\n",
              "    <tr>\n",
              "      <th>97535</th>\n",
              "      <td>AD9AA97B-845C-B7BA-1A26-8235AD2C7683</td>\n",
              "      <td>bp suyanto</td>\n",
              "      <td>Bpk Suyanto</td>\n",
              "      <td>3D0A329F-4A16-7472-F711-FC66E5FB2CFF</td>\n",
              "      <td>2022-01-17 13:50:00</td>\n",
              "      <td>Zakat</td>\n",
              "      <td>No Category</td>\n",
              "      <td>Tunai</td>\n",
              "      <td>600000</td>\n",
              "      <td>KP002</td>\n",
              "    </tr>\n",
              "    <tr>\n",
              "      <th>155846</th>\n",
              "      <td>87CB8106-C003-8B49-9796-855AC3BA965E</td>\n",
              "      <td>DHAVA ABIYYU AL FATIH</td>\n",
              "      <td>DHAVA ABIYYU AL FATIH</td>\n",
              "      <td>7BDC430B-61C2-0518-FC00-FA9E084E4837</td>\n",
              "      <td>2022-01-17 15:14:00</td>\n",
              "      <td>Zakat Profesi</td>\n",
              "      <td>Tunaikan Zakat Penghasilan</td>\n",
              "      <td>Tunai</td>\n",
              "      <td>150000</td>\n",
              "      <td>KP011</td>\n",
              "    </tr>\n",
              "  </tbody>\n",
              "</table>\n",
              "</div>\n",
              "      <button class=\"colab-df-convert\" onclick=\"convertToInteractive('df-e683c050-2518-4545-bef2-8ad9130a84b7')\"\n",
              "              title=\"Convert this dataframe to an interactive table.\"\n",
              "              style=\"display:none;\">\n",
              "        \n",
              "  <svg xmlns=\"http://www.w3.org/2000/svg\" height=\"24px\"viewBox=\"0 0 24 24\"\n",
              "       width=\"24px\">\n",
              "    <path d=\"M0 0h24v24H0V0z\" fill=\"none\"/>\n",
              "    <path d=\"M18.56 5.44l.94 2.06.94-2.06 2.06-.94-2.06-.94-.94-2.06-.94 2.06-2.06.94zm-11 1L8.5 8.5l.94-2.06 2.06-.94-2.06-.94L8.5 2.5l-.94 2.06-2.06.94zm10 10l.94 2.06.94-2.06 2.06-.94-2.06-.94-.94-2.06-.94 2.06-2.06.94z\"/><path d=\"M17.41 7.96l-1.37-1.37c-.4-.4-.92-.59-1.43-.59-.52 0-1.04.2-1.43.59L10.3 9.45l-7.72 7.72c-.78.78-.78 2.05 0 2.83L4 21.41c.39.39.9.59 1.41.59.51 0 1.02-.2 1.41-.59l7.78-7.78 2.81-2.81c.8-.78.8-2.07 0-2.86zM5.41 20L4 18.59l7.72-7.72 1.47 1.35L5.41 20z\"/>\n",
              "  </svg>\n",
              "      </button>\n",
              "      \n",
              "  <style>\n",
              "    .colab-df-container {\n",
              "      display:flex;\n",
              "      flex-wrap:wrap;\n",
              "      gap: 12px;\n",
              "    }\n",
              "\n",
              "    .colab-df-convert {\n",
              "      background-color: #E8F0FE;\n",
              "      border: none;\n",
              "      border-radius: 50%;\n",
              "      cursor: pointer;\n",
              "      display: none;\n",
              "      fill: #1967D2;\n",
              "      height: 32px;\n",
              "      padding: 0 0 0 0;\n",
              "      width: 32px;\n",
              "    }\n",
              "\n",
              "    .colab-df-convert:hover {\n",
              "      background-color: #E2EBFA;\n",
              "      box-shadow: 0px 1px 2px rgba(60, 64, 67, 0.3), 0px 1px 3px 1px rgba(60, 64, 67, 0.15);\n",
              "      fill: #174EA6;\n",
              "    }\n",
              "\n",
              "    [theme=dark] .colab-df-convert {\n",
              "      background-color: #3B4455;\n",
              "      fill: #D2E3FC;\n",
              "    }\n",
              "\n",
              "    [theme=dark] .colab-df-convert:hover {\n",
              "      background-color: #434B5C;\n",
              "      box-shadow: 0px 1px 3px 1px rgba(0, 0, 0, 0.15);\n",
              "      filter: drop-shadow(0px 1px 2px rgba(0, 0, 0, 0.3));\n",
              "      fill: #FFFFFF;\n",
              "    }\n",
              "  </style>\n",
              "\n",
              "      <script>\n",
              "        const buttonEl =\n",
              "          document.querySelector('#df-e683c050-2518-4545-bef2-8ad9130a84b7 button.colab-df-convert');\n",
              "        buttonEl.style.display =\n",
              "          google.colab.kernel.accessAllowed ? 'block' : 'none';\n",
              "\n",
              "        async function convertToInteractive(key) {\n",
              "          const element = document.querySelector('#df-e683c050-2518-4545-bef2-8ad9130a84b7');\n",
              "          const dataTable =\n",
              "            await google.colab.kernel.invokeFunction('convertToInteractive',\n",
              "                                                     [key], {});\n",
              "          if (!dataTable) return;\n",
              "\n",
              "          const docLinkHtml = 'Like what you see? Visit the ' +\n",
              "            '<a target=\"_blank\" href=https://colab.research.google.com/notebooks/data_table.ipynb>data table notebook</a>'\n",
              "            + ' to learn more about interactive tables.';\n",
              "          element.innerHTML = '';\n",
              "          dataTable['output_type'] = 'display_data';\n",
              "          await google.colab.output.renderOutput(dataTable, element);\n",
              "          const docLink = document.createElement('div');\n",
              "          docLink.innerHTML = docLinkHtml;\n",
              "          element.appendChild(docLink);\n",
              "        }\n",
              "      </script>\n",
              "    </div>\n",
              "  </div>\n",
              "  "
            ],
            "text/plain": [
              "                                  ID_Donatur  ... Kantor_Pelayanan\n",
              "12104   5B7AE406-6E40-5EB8-5BCD-C13EF3A2C7CD  ...            KP005\n",
              "97535   AD9AA97B-845C-B7BA-1A26-8235AD2C7683  ...            KP002\n",
              "155846  87CB8106-C003-8B49-9796-855AC3BA965E  ...            KP011\n",
              "\n",
              "[3 rows x 10 columns]"
            ]
          },
          "metadata": {},
          "execution_count": 17
        }
      ]
    },
    {
      "cell_type": "code",
      "source": [
        "df1.Nominal_Donasi.min()"
      ],
      "metadata": {
        "id": "D3XRQkKLIt7b",
        "colab": {
          "base_uri": "https://localhost:8080/"
        },
        "outputId": "52809855-6158-4338-ca4c-b31afa6bbe36"
      },
      "execution_count": null,
      "outputs": [
        {
          "output_type": "execute_result",
          "data": {
            "text/plain": [
              "0"
            ]
          },
          "metadata": {},
          "execution_count": 18
        }
      ]
    },
    {
      "cell_type": "code",
      "source": [
        "df1['Tanggal'] = pd.to_datetime(df1['Tanggal'])"
      ],
      "metadata": {
        "id": "Yea591gMJORa"
      },
      "execution_count": null,
      "outputs": []
    },
    {
      "cell_type": "markdown",
      "source": [
        "#FORECASTING"
      ],
      "metadata": {
        "id": "7yqmCm0ljiVU"
      }
    },
    {
      "cell_type": "markdown",
      "source": [
        "##Data Preparation"
      ],
      "metadata": {
        "id": "yOSamN5-meAp"
      }
    },
    {
      "cell_type": "code",
      "source": [
        "df2 = df1[['Tanggal', 'Nominal_Donasi']]"
      ],
      "metadata": {
        "id": "dn4Lz4Cljwy0"
      },
      "execution_count": null,
      "outputs": []
    },
    {
      "cell_type": "code",
      "source": [
        "df2.reset_index(inplace=True)"
      ],
      "metadata": {
        "id": "EZguCiTqkjMt"
      },
      "execution_count": null,
      "outputs": []
    },
    {
      "cell_type": "code",
      "source": [
        "df2.drop(labels='index', axis=1, inplace=True)"
      ],
      "metadata": {
        "id": "hC_ovX5lkH0G",
        "colab": {
          "base_uri": "https://localhost:8080/"
        },
        "outputId": "fa1fc3c7-e560-4097-8846-1e791c717868"
      },
      "execution_count": null,
      "outputs": [
        {
          "output_type": "stream",
          "name": "stderr",
          "text": [
            "/usr/local/lib/python3.7/dist-packages/pandas/core/frame.py:4913: SettingWithCopyWarning: \n",
            "A value is trying to be set on a copy of a slice from a DataFrame\n",
            "\n",
            "See the caveats in the documentation: https://pandas.pydata.org/pandas-docs/stable/user_guide/indexing.html#returning-a-view-versus-a-copy\n",
            "  errors=errors,\n"
          ]
        }
      ]
    },
    {
      "cell_type": "code",
      "source": [
        "df2 = df2.groupby([df2['Tanggal'].dt.date]).agg({'Nominal_Donasi': lambda x: x.sum()})"
      ],
      "metadata": {
        "id": "aMUp28WOmyDD"
      },
      "execution_count": null,
      "outputs": []
    },
    {
      "cell_type": "code",
      "source": [
        "df2.head()"
      ],
      "metadata": {
        "colab": {
          "base_uri": "https://localhost:8080/"
        },
        "id": "Mr-gVgEYfxIR",
        "outputId": "34eb8445-3c77-48d2-e454-02a3f4040d54"
      },
      "execution_count": null,
      "outputs": [
        {
          "output_type": "execute_result",
          "data": {
            "text/html": [
              "\n",
              "  <div id=\"df-fdf71451-1166-4f20-9f00-2e09d89f23ad\">\n",
              "    <div class=\"colab-df-container\">\n",
              "      <div>\n",
              "<style scoped>\n",
              "    .dataframe tbody tr th:only-of-type {\n",
              "        vertical-align: middle;\n",
              "    }\n",
              "\n",
              "    .dataframe tbody tr th {\n",
              "        vertical-align: top;\n",
              "    }\n",
              "\n",
              "    .dataframe thead th {\n",
              "        text-align: right;\n",
              "    }\n",
              "</style>\n",
              "<table border=\"1\" class=\"dataframe\">\n",
              "  <thead>\n",
              "    <tr style=\"text-align: right;\">\n",
              "      <th></th>\n",
              "      <th>Nominal_Donasi</th>\n",
              "    </tr>\n",
              "    <tr>\n",
              "      <th>Tanggal</th>\n",
              "      <th></th>\n",
              "    </tr>\n",
              "  </thead>\n",
              "  <tbody>\n",
              "    <tr>\n",
              "      <th>2019-01-01</th>\n",
              "      <td>200000</td>\n",
              "    </tr>\n",
              "    <tr>\n",
              "      <th>2019-01-02</th>\n",
              "      <td>600000</td>\n",
              "    </tr>\n",
              "    <tr>\n",
              "      <th>2019-01-03</th>\n",
              "      <td>300000</td>\n",
              "    </tr>\n",
              "    <tr>\n",
              "      <th>2019-01-04</th>\n",
              "      <td>250000</td>\n",
              "    </tr>\n",
              "    <tr>\n",
              "      <th>2019-01-05</th>\n",
              "      <td>300000</td>\n",
              "    </tr>\n",
              "  </tbody>\n",
              "</table>\n",
              "</div>\n",
              "      <button class=\"colab-df-convert\" onclick=\"convertToInteractive('df-fdf71451-1166-4f20-9f00-2e09d89f23ad')\"\n",
              "              title=\"Convert this dataframe to an interactive table.\"\n",
              "              style=\"display:none;\">\n",
              "        \n",
              "  <svg xmlns=\"http://www.w3.org/2000/svg\" height=\"24px\"viewBox=\"0 0 24 24\"\n",
              "       width=\"24px\">\n",
              "    <path d=\"M0 0h24v24H0V0z\" fill=\"none\"/>\n",
              "    <path d=\"M18.56 5.44l.94 2.06.94-2.06 2.06-.94-2.06-.94-.94-2.06-.94 2.06-2.06.94zm-11 1L8.5 8.5l.94-2.06 2.06-.94-2.06-.94L8.5 2.5l-.94 2.06-2.06.94zm10 10l.94 2.06.94-2.06 2.06-.94-2.06-.94-.94-2.06-.94 2.06-2.06.94z\"/><path d=\"M17.41 7.96l-1.37-1.37c-.4-.4-.92-.59-1.43-.59-.52 0-1.04.2-1.43.59L10.3 9.45l-7.72 7.72c-.78.78-.78 2.05 0 2.83L4 21.41c.39.39.9.59 1.41.59.51 0 1.02-.2 1.41-.59l7.78-7.78 2.81-2.81c.8-.78.8-2.07 0-2.86zM5.41 20L4 18.59l7.72-7.72 1.47 1.35L5.41 20z\"/>\n",
              "  </svg>\n",
              "      </button>\n",
              "      \n",
              "  <style>\n",
              "    .colab-df-container {\n",
              "      display:flex;\n",
              "      flex-wrap:wrap;\n",
              "      gap: 12px;\n",
              "    }\n",
              "\n",
              "    .colab-df-convert {\n",
              "      background-color: #E8F0FE;\n",
              "      border: none;\n",
              "      border-radius: 50%;\n",
              "      cursor: pointer;\n",
              "      display: none;\n",
              "      fill: #1967D2;\n",
              "      height: 32px;\n",
              "      padding: 0 0 0 0;\n",
              "      width: 32px;\n",
              "    }\n",
              "\n",
              "    .colab-df-convert:hover {\n",
              "      background-color: #E2EBFA;\n",
              "      box-shadow: 0px 1px 2px rgba(60, 64, 67, 0.3), 0px 1px 3px 1px rgba(60, 64, 67, 0.15);\n",
              "      fill: #174EA6;\n",
              "    }\n",
              "\n",
              "    [theme=dark] .colab-df-convert {\n",
              "      background-color: #3B4455;\n",
              "      fill: #D2E3FC;\n",
              "    }\n",
              "\n",
              "    [theme=dark] .colab-df-convert:hover {\n",
              "      background-color: #434B5C;\n",
              "      box-shadow: 0px 1px 3px 1px rgba(0, 0, 0, 0.15);\n",
              "      filter: drop-shadow(0px 1px 2px rgba(0, 0, 0, 0.3));\n",
              "      fill: #FFFFFF;\n",
              "    }\n",
              "  </style>\n",
              "\n",
              "      <script>\n",
              "        const buttonEl =\n",
              "          document.querySelector('#df-fdf71451-1166-4f20-9f00-2e09d89f23ad button.colab-df-convert');\n",
              "        buttonEl.style.display =\n",
              "          google.colab.kernel.accessAllowed ? 'block' : 'none';\n",
              "\n",
              "        async function convertToInteractive(key) {\n",
              "          const element = document.querySelector('#df-fdf71451-1166-4f20-9f00-2e09d89f23ad');\n",
              "          const dataTable =\n",
              "            await google.colab.kernel.invokeFunction('convertToInteractive',\n",
              "                                                     [key], {});\n",
              "          if (!dataTable) return;\n",
              "\n",
              "          const docLinkHtml = 'Like what you see? Visit the ' +\n",
              "            '<a target=\"_blank\" href=https://colab.research.google.com/notebooks/data_table.ipynb>data table notebook</a>'\n",
              "            + ' to learn more about interactive tables.';\n",
              "          element.innerHTML = '';\n",
              "          dataTable['output_type'] = 'display_data';\n",
              "          await google.colab.output.renderOutput(dataTable, element);\n",
              "          const docLink = document.createElement('div');\n",
              "          docLink.innerHTML = docLinkHtml;\n",
              "          element.appendChild(docLink);\n",
              "        }\n",
              "      </script>\n",
              "    </div>\n",
              "  </div>\n",
              "  "
            ],
            "text/plain": [
              "            Nominal_Donasi\n",
              "Tanggal                   \n",
              "2019-01-01          200000\n",
              "2019-01-02          600000\n",
              "2019-01-03          300000\n",
              "2019-01-04          250000\n",
              "2019-01-05          300000"
            ]
          },
          "metadata": {},
          "execution_count": 24
        }
      ]
    },
    {
      "cell_type": "code",
      "source": [
        "df2.reset_index(inplace=True)"
      ],
      "metadata": {
        "id": "v3AhSIW_lZ74"
      },
      "execution_count": null,
      "outputs": []
    },
    {
      "cell_type": "code",
      "source": [
        "df2['Tanggal']=df2['Tanggal'].astype('string')"
      ],
      "metadata": {
        "id": "mTrg096-HJeZ"
      },
      "execution_count": null,
      "outputs": []
    },
    {
      "cell_type": "code",
      "source": [
        "Bulan= []"
      ],
      "metadata": {
        "id": "QfjckIhgcURt"
      },
      "execution_count": null,
      "outputs": []
    },
    {
      "cell_type": "code",
      "source": [
        "for i in df2['Tanggal']:\n",
        "  a = i[:7]\n",
        "  Bulan.append(a)"
      ],
      "metadata": {
        "id": "GVPYXUmIH51D"
      },
      "execution_count": null,
      "outputs": []
    },
    {
      "cell_type": "code",
      "source": [
        "dat1 = {'Bulan':Bulan}"
      ],
      "metadata": {
        "id": "qS2L51tkcpsk"
      },
      "execution_count": null,
      "outputs": []
    },
    {
      "cell_type": "code",
      "source": [
        "df_bulan= pd.DataFrame(data= dat1)"
      ],
      "metadata": {
        "id": "xme83Dlyc92z"
      },
      "execution_count": null,
      "outputs": []
    },
    {
      "cell_type": "code",
      "source": [
        "df_bulan.iloc[500:505]"
      ],
      "metadata": {
        "colab": {
          "base_uri": "https://localhost:8080/"
        },
        "id": "bWFGBARHdZqz",
        "outputId": "983feac1-7923-4d5b-e695-d32ca3a72c20"
      },
      "execution_count": null,
      "outputs": [
        {
          "output_type": "execute_result",
          "data": {
            "text/html": [
              "\n",
              "  <div id=\"df-bea9454b-8351-40f6-81e0-73db2c0c1b1c\">\n",
              "    <div class=\"colab-df-container\">\n",
              "      <div>\n",
              "<style scoped>\n",
              "    .dataframe tbody tr th:only-of-type {\n",
              "        vertical-align: middle;\n",
              "    }\n",
              "\n",
              "    .dataframe tbody tr th {\n",
              "        vertical-align: top;\n",
              "    }\n",
              "\n",
              "    .dataframe thead th {\n",
              "        text-align: right;\n",
              "    }\n",
              "</style>\n",
              "<table border=\"1\" class=\"dataframe\">\n",
              "  <thead>\n",
              "    <tr style=\"text-align: right;\">\n",
              "      <th></th>\n",
              "      <th>Bulan</th>\n",
              "    </tr>\n",
              "  </thead>\n",
              "  <tbody>\n",
              "    <tr>\n",
              "      <th>500</th>\n",
              "      <td>2020-05</td>\n",
              "    </tr>\n",
              "    <tr>\n",
              "      <th>501</th>\n",
              "      <td>2020-05</td>\n",
              "    </tr>\n",
              "    <tr>\n",
              "      <th>502</th>\n",
              "      <td>2020-05</td>\n",
              "    </tr>\n",
              "    <tr>\n",
              "      <th>503</th>\n",
              "      <td>2020-05</td>\n",
              "    </tr>\n",
              "    <tr>\n",
              "      <th>504</th>\n",
              "      <td>2020-05</td>\n",
              "    </tr>\n",
              "  </tbody>\n",
              "</table>\n",
              "</div>\n",
              "      <button class=\"colab-df-convert\" onclick=\"convertToInteractive('df-bea9454b-8351-40f6-81e0-73db2c0c1b1c')\"\n",
              "              title=\"Convert this dataframe to an interactive table.\"\n",
              "              style=\"display:none;\">\n",
              "        \n",
              "  <svg xmlns=\"http://www.w3.org/2000/svg\" height=\"24px\"viewBox=\"0 0 24 24\"\n",
              "       width=\"24px\">\n",
              "    <path d=\"M0 0h24v24H0V0z\" fill=\"none\"/>\n",
              "    <path d=\"M18.56 5.44l.94 2.06.94-2.06 2.06-.94-2.06-.94-.94-2.06-.94 2.06-2.06.94zm-11 1L8.5 8.5l.94-2.06 2.06-.94-2.06-.94L8.5 2.5l-.94 2.06-2.06.94zm10 10l.94 2.06.94-2.06 2.06-.94-2.06-.94-.94-2.06-.94 2.06-2.06.94z\"/><path d=\"M17.41 7.96l-1.37-1.37c-.4-.4-.92-.59-1.43-.59-.52 0-1.04.2-1.43.59L10.3 9.45l-7.72 7.72c-.78.78-.78 2.05 0 2.83L4 21.41c.39.39.9.59 1.41.59.51 0 1.02-.2 1.41-.59l7.78-7.78 2.81-2.81c.8-.78.8-2.07 0-2.86zM5.41 20L4 18.59l7.72-7.72 1.47 1.35L5.41 20z\"/>\n",
              "  </svg>\n",
              "      </button>\n",
              "      \n",
              "  <style>\n",
              "    .colab-df-container {\n",
              "      display:flex;\n",
              "      flex-wrap:wrap;\n",
              "      gap: 12px;\n",
              "    }\n",
              "\n",
              "    .colab-df-convert {\n",
              "      background-color: #E8F0FE;\n",
              "      border: none;\n",
              "      border-radius: 50%;\n",
              "      cursor: pointer;\n",
              "      display: none;\n",
              "      fill: #1967D2;\n",
              "      height: 32px;\n",
              "      padding: 0 0 0 0;\n",
              "      width: 32px;\n",
              "    }\n",
              "\n",
              "    .colab-df-convert:hover {\n",
              "      background-color: #E2EBFA;\n",
              "      box-shadow: 0px 1px 2px rgba(60, 64, 67, 0.3), 0px 1px 3px 1px rgba(60, 64, 67, 0.15);\n",
              "      fill: #174EA6;\n",
              "    }\n",
              "\n",
              "    [theme=dark] .colab-df-convert {\n",
              "      background-color: #3B4455;\n",
              "      fill: #D2E3FC;\n",
              "    }\n",
              "\n",
              "    [theme=dark] .colab-df-convert:hover {\n",
              "      background-color: #434B5C;\n",
              "      box-shadow: 0px 1px 3px 1px rgba(0, 0, 0, 0.15);\n",
              "      filter: drop-shadow(0px 1px 2px rgba(0, 0, 0, 0.3));\n",
              "      fill: #FFFFFF;\n",
              "    }\n",
              "  </style>\n",
              "\n",
              "      <script>\n",
              "        const buttonEl =\n",
              "          document.querySelector('#df-bea9454b-8351-40f6-81e0-73db2c0c1b1c button.colab-df-convert');\n",
              "        buttonEl.style.display =\n",
              "          google.colab.kernel.accessAllowed ? 'block' : 'none';\n",
              "\n",
              "        async function convertToInteractive(key) {\n",
              "          const element = document.querySelector('#df-bea9454b-8351-40f6-81e0-73db2c0c1b1c');\n",
              "          const dataTable =\n",
              "            await google.colab.kernel.invokeFunction('convertToInteractive',\n",
              "                                                     [key], {});\n",
              "          if (!dataTable) return;\n",
              "\n",
              "          const docLinkHtml = 'Like what you see? Visit the ' +\n",
              "            '<a target=\"_blank\" href=https://colab.research.google.com/notebooks/data_table.ipynb>data table notebook</a>'\n",
              "            + ' to learn more about interactive tables.';\n",
              "          element.innerHTML = '';\n",
              "          dataTable['output_type'] = 'display_data';\n",
              "          await google.colab.output.renderOutput(dataTable, element);\n",
              "          const docLink = document.createElement('div');\n",
              "          docLink.innerHTML = docLinkHtml;\n",
              "          element.appendChild(docLink);\n",
              "        }\n",
              "      </script>\n",
              "    </div>\n",
              "  </div>\n",
              "  "
            ],
            "text/plain": [
              "       Bulan\n",
              "500  2020-05\n",
              "501  2020-05\n",
              "502  2020-05\n",
              "503  2020-05\n",
              "504  2020-05"
            ]
          },
          "metadata": {},
          "execution_count": 31
        }
      ]
    },
    {
      "cell_type": "code",
      "source": [
        "df2_bulan = pd.concat([df2,df_bulan], axis= 1)"
      ],
      "metadata": {
        "id": "tCUdPGUgf1TC"
      },
      "execution_count": null,
      "outputs": []
    },
    {
      "cell_type": "code",
      "source": [
        "df2_bulan.tail()"
      ],
      "metadata": {
        "colab": {
          "base_uri": "https://localhost:8080/"
        },
        "id": "VklrAiJDiZOQ",
        "outputId": "b2bc4339-3a71-4313-eec3-8157df2182f5"
      },
      "execution_count": null,
      "outputs": [
        {
          "output_type": "execute_result",
          "data": {
            "text/html": [
              "\n",
              "  <div id=\"df-bf3dcf6a-d3d4-43f8-bb14-cea074ed6f27\">\n",
              "    <div class=\"colab-df-container\">\n",
              "      <div>\n",
              "<style scoped>\n",
              "    .dataframe tbody tr th:only-of-type {\n",
              "        vertical-align: middle;\n",
              "    }\n",
              "\n",
              "    .dataframe tbody tr th {\n",
              "        vertical-align: top;\n",
              "    }\n",
              "\n",
              "    .dataframe thead th {\n",
              "        text-align: right;\n",
              "    }\n",
              "</style>\n",
              "<table border=\"1\" class=\"dataframe\">\n",
              "  <thead>\n",
              "    <tr style=\"text-align: right;\">\n",
              "      <th></th>\n",
              "      <th>Tanggal</th>\n",
              "      <th>Nominal_Donasi</th>\n",
              "      <th>Bulan</th>\n",
              "    </tr>\n",
              "  </thead>\n",
              "  <tbody>\n",
              "    <tr>\n",
              "      <th>1106</th>\n",
              "      <td>2022-01-13</td>\n",
              "      <td>102628000</td>\n",
              "      <td>2022-01</td>\n",
              "    </tr>\n",
              "    <tr>\n",
              "      <th>1107</th>\n",
              "      <td>2022-01-14</td>\n",
              "      <td>273461199</td>\n",
              "      <td>2022-01</td>\n",
              "    </tr>\n",
              "    <tr>\n",
              "      <th>1108</th>\n",
              "      <td>2022-01-15</td>\n",
              "      <td>81453000</td>\n",
              "      <td>2022-01</td>\n",
              "    </tr>\n",
              "    <tr>\n",
              "      <th>1109</th>\n",
              "      <td>2022-01-16</td>\n",
              "      <td>110866500</td>\n",
              "      <td>2022-01</td>\n",
              "    </tr>\n",
              "    <tr>\n",
              "      <th>1110</th>\n",
              "      <td>2022-01-17</td>\n",
              "      <td>13730000</td>\n",
              "      <td>2022-01</td>\n",
              "    </tr>\n",
              "  </tbody>\n",
              "</table>\n",
              "</div>\n",
              "      <button class=\"colab-df-convert\" onclick=\"convertToInteractive('df-bf3dcf6a-d3d4-43f8-bb14-cea074ed6f27')\"\n",
              "              title=\"Convert this dataframe to an interactive table.\"\n",
              "              style=\"display:none;\">\n",
              "        \n",
              "  <svg xmlns=\"http://www.w3.org/2000/svg\" height=\"24px\"viewBox=\"0 0 24 24\"\n",
              "       width=\"24px\">\n",
              "    <path d=\"M0 0h24v24H0V0z\" fill=\"none\"/>\n",
              "    <path d=\"M18.56 5.44l.94 2.06.94-2.06 2.06-.94-2.06-.94-.94-2.06-.94 2.06-2.06.94zm-11 1L8.5 8.5l.94-2.06 2.06-.94-2.06-.94L8.5 2.5l-.94 2.06-2.06.94zm10 10l.94 2.06.94-2.06 2.06-.94-2.06-.94-.94-2.06-.94 2.06-2.06.94z\"/><path d=\"M17.41 7.96l-1.37-1.37c-.4-.4-.92-.59-1.43-.59-.52 0-1.04.2-1.43.59L10.3 9.45l-7.72 7.72c-.78.78-.78 2.05 0 2.83L4 21.41c.39.39.9.59 1.41.59.51 0 1.02-.2 1.41-.59l7.78-7.78 2.81-2.81c.8-.78.8-2.07 0-2.86zM5.41 20L4 18.59l7.72-7.72 1.47 1.35L5.41 20z\"/>\n",
              "  </svg>\n",
              "      </button>\n",
              "      \n",
              "  <style>\n",
              "    .colab-df-container {\n",
              "      display:flex;\n",
              "      flex-wrap:wrap;\n",
              "      gap: 12px;\n",
              "    }\n",
              "\n",
              "    .colab-df-convert {\n",
              "      background-color: #E8F0FE;\n",
              "      border: none;\n",
              "      border-radius: 50%;\n",
              "      cursor: pointer;\n",
              "      display: none;\n",
              "      fill: #1967D2;\n",
              "      height: 32px;\n",
              "      padding: 0 0 0 0;\n",
              "      width: 32px;\n",
              "    }\n",
              "\n",
              "    .colab-df-convert:hover {\n",
              "      background-color: #E2EBFA;\n",
              "      box-shadow: 0px 1px 2px rgba(60, 64, 67, 0.3), 0px 1px 3px 1px rgba(60, 64, 67, 0.15);\n",
              "      fill: #174EA6;\n",
              "    }\n",
              "\n",
              "    [theme=dark] .colab-df-convert {\n",
              "      background-color: #3B4455;\n",
              "      fill: #D2E3FC;\n",
              "    }\n",
              "\n",
              "    [theme=dark] .colab-df-convert:hover {\n",
              "      background-color: #434B5C;\n",
              "      box-shadow: 0px 1px 3px 1px rgba(0, 0, 0, 0.15);\n",
              "      filter: drop-shadow(0px 1px 2px rgba(0, 0, 0, 0.3));\n",
              "      fill: #FFFFFF;\n",
              "    }\n",
              "  </style>\n",
              "\n",
              "      <script>\n",
              "        const buttonEl =\n",
              "          document.querySelector('#df-bf3dcf6a-d3d4-43f8-bb14-cea074ed6f27 button.colab-df-convert');\n",
              "        buttonEl.style.display =\n",
              "          google.colab.kernel.accessAllowed ? 'block' : 'none';\n",
              "\n",
              "        async function convertToInteractive(key) {\n",
              "          const element = document.querySelector('#df-bf3dcf6a-d3d4-43f8-bb14-cea074ed6f27');\n",
              "          const dataTable =\n",
              "            await google.colab.kernel.invokeFunction('convertToInteractive',\n",
              "                                                     [key], {});\n",
              "          if (!dataTable) return;\n",
              "\n",
              "          const docLinkHtml = 'Like what you see? Visit the ' +\n",
              "            '<a target=\"_blank\" href=https://colab.research.google.com/notebooks/data_table.ipynb>data table notebook</a>'\n",
              "            + ' to learn more about interactive tables.';\n",
              "          element.innerHTML = '';\n",
              "          dataTable['output_type'] = 'display_data';\n",
              "          await google.colab.output.renderOutput(dataTable, element);\n",
              "          const docLink = document.createElement('div');\n",
              "          docLink.innerHTML = docLinkHtml;\n",
              "          element.appendChild(docLink);\n",
              "        }\n",
              "      </script>\n",
              "    </div>\n",
              "  </div>\n",
              "  "
            ],
            "text/plain": [
              "         Tanggal  Nominal_Donasi    Bulan\n",
              "1106  2022-01-13       102628000  2022-01\n",
              "1107  2022-01-14       273461199  2022-01\n",
              "1108  2022-01-15        81453000  2022-01\n",
              "1109  2022-01-16       110866500  2022-01\n",
              "1110  2022-01-17        13730000  2022-01"
            ]
          },
          "metadata": {},
          "execution_count": 33
        }
      ]
    },
    {
      "cell_type": "code",
      "source": [
        "df2_bulan.drop(labels= \"Tanggal\", axis =1, inplace= True)"
      ],
      "metadata": {
        "id": "XyBXgngJilHw"
      },
      "execution_count": null,
      "outputs": []
    },
    {
      "cell_type": "code",
      "source": [
        "df2_bulan = df2_bulan.groupby(df2_bulan['Bulan']).agg({'Nominal_Donasi': lambda x: x.sum()})"
      ],
      "metadata": {
        "id": "ongPq8_Yf5lC"
      },
      "execution_count": null,
      "outputs": []
    },
    {
      "cell_type": "code",
      "source": [
        "df2_bulan.reset_index(inplace=True)"
      ],
      "metadata": {
        "id": "2c9jzfEcl8_e"
      },
      "execution_count": null,
      "outputs": []
    },
    {
      "cell_type": "code",
      "source": [
        "df2_bulan.dtypes"
      ],
      "metadata": {
        "colab": {
          "base_uri": "https://localhost:8080/"
        },
        "id": "U10viVYQmA_V",
        "outputId": "d35b1a0a-3072-4393-d94f-3b8b6ed7cd15"
      },
      "execution_count": null,
      "outputs": [
        {
          "output_type": "execute_result",
          "data": {
            "text/plain": [
              "Bulan             object\n",
              "Nominal_Donasi     int64\n",
              "dtype: object"
            ]
          },
          "metadata": {},
          "execution_count": 37
        }
      ]
    },
    {
      "cell_type": "code",
      "source": [
        "df2_bulan['Bulan']= pd.to_datetime(df2_bulan['Bulan'])"
      ],
      "metadata": {
        "id": "utncZ7EkvS5x"
      },
      "execution_count": null,
      "outputs": []
    },
    {
      "cell_type": "code",
      "source": [
        "df2_bulan= df2_bulan.set_index(['Bulan'])"
      ],
      "metadata": {
        "id": "Pgon4rh1voyA"
      },
      "execution_count": null,
      "outputs": []
    },
    {
      "cell_type": "markdown",
      "source": [
        "##Data check Stationary"
      ],
      "metadata": {
        "id": "C_9mSqxYxD4A"
      }
    },
    {
      "cell_type": "code",
      "source": [
        "dfbulan_diff = df2_bulan.diff(periods=1)"
      ],
      "metadata": {
        "id": "HNgh0d4DxMMX"
      },
      "execution_count": null,
      "outputs": []
    },
    {
      "cell_type": "code",
      "source": [
        "dfbulan_diff = dfbulan_diff[1:]"
      ],
      "metadata": {
        "id": "PlnGCYOMx8Dv"
      },
      "execution_count": null,
      "outputs": []
    },
    {
      "cell_type": "markdown",
      "source": [
        "##Visualisasi Data Forecasting"
      ],
      "metadata": {
        "id": "T94-W_XbmHTB"
      }
    },
    {
      "cell_type": "code",
      "source": [
        "#Visualisasi  Harian\n",
        "df2.Nominal_Donasi.plot(figsize=(20,5))"
      ],
      "metadata": {
        "colab": {
          "base_uri": "https://localhost:8080/"
        },
        "id": "FNieIHagYimy",
        "outputId": "514284fe-0054-4776-aa1c-180c8800999b"
      },
      "execution_count": null,
      "outputs": [
        {
          "output_type": "execute_result",
          "data": {
            "text/plain": [
              "<matplotlib.axes._subplots.AxesSubplot at 0x7feac3c966d0>"
            ]
          },
          "metadata": {},
          "execution_count": 42
        },
        {
          "output_type": "display_data",
          "data": {
            "image/png": "[encoded data removed]",
            "text/plain": [
              "<Figure size 1440x360 with 1 Axes>"
            ]
          },
          "metadata": {
            "needs_background": "light"
          }
        }
      ]
    },
    {
      "cell_type": "code",
      "source": [
        "df2_bulan.plot(figsize=(15,7))"
      ],
      "metadata": {
        "id": "uxj_4J4U6B7L",
        "colab": {
          "base_uri": "https://localhost:8080/"
        },
        "outputId": "36941ac3-673f-46b2-b3b3-0e8adebd9803"
      },
      "execution_count": null,
      "outputs": [
        {
          "output_type": "execute_result",
          "data": {
            "text/plain": [
              "<matplotlib.axes._subplots.AxesSubplot at 0x7feabd2f3bd0>"
            ]
          },
          "metadata": {},
          "execution_count": 43
        },
        {
          "output_type": "display_data",
          "data": {
            "image/png": "[encoded data removed]",
            "text/plain": [
              "<Figure size 1080x504 with 1 Axes>"
            ]
          },
          "metadata": {
            "needs_background": "light"
          }
        }
      ]
    },
    {
      "cell_type": "code",
      "source": [
        "from statsmodels.graphics.tsaplots import plot_acf\n",
        "plot_acf(df2_bulan)"
      ],
      "metadata": {
        "colab": {
          "base_uri": "https://localhost:8080/"
        },
        "id": "dPq6QpLAyEru",
        "outputId": "5abe3fde-ad66-4afe-ffaf-43f81be9fc4e"
      },
      "execution_count": null,
      "outputs": [
        {
          "output_type": "stream",
          "name": "stderr",
          "text": [
            "/usr/local/lib/python3.7/dist-packages/statsmodels/tools/_testing.py:19: FutureWarning: pandas.util.testing is deprecated. Use the functions in the public API at pandas.testing instead.\n",
            "  import pandas.util.testing as tm\n"
          ]
        },
        {
          "output_type": "execute_result",
          "data": {
            "image/png": "[encoded data removed]",
            "text/plain": [
              "<Figure size 432x288 with 1 Axes>"
            ]
          },
          "metadata": {},
          "execution_count": 44
        },
        {
          "output_type": "display_data",
          "data": {
            "image/png": "[encoded data removed]",
            "text/plain": [
              "<Figure size 432x288 with 1 Axes>"
            ]
          },
          "metadata": {
            "needs_background": "light"
          }
        }
      ]
    },
    {
      "cell_type": "code",
      "source": [
        "plot_acf(dfbulan_diff)"
      ],
      "metadata": {
        "colab": {
          "base_uri": "https://localhost:8080/"
        },
        "id": "vr6Hi-BGzQ-F",
        "outputId": "1aa0e6dd-2745-4b3c-f82b-6c0fa76718ce"
      },
      "execution_count": null,
      "outputs": [
        {
          "output_type": "execute_result",
          "data": {
            "image/png": "[encoded data removed]",
            "text/plain": [
              "<Figure size 432x288 with 1 Axes>"
            ]
          },
          "metadata": {},
          "execution_count": 45
        },
        {
          "output_type": "display_data",
          "data": {
            "image/png": "[encoded data removed]",
            "text/plain": [
              "<Figure size 432x288 with 1 Axes>"
            ]
          },
          "metadata": {
            "needs_background": "light"
          }
        }
      ]
    },
    {
      "cell_type": "code",
      "source": [
        "dfbulan_diff.plot()"
      ],
      "metadata": {
        "colab": {
          "base_uri": "https://localhost:8080/"
        },
        "id": "NH9FInM9zl0e",
        "outputId": "b5a2e381-ad7a-40e9-c71d-ad05de887e63"
      },
      "execution_count": null,
      "outputs": [
        {
          "output_type": "execute_result",
          "data": {
            "text/plain": [
              "<matplotlib.axes._subplots.AxesSubplot at 0x7feab7886090>"
            ]
          },
          "metadata": {},
          "execution_count": 46
        },
        {
          "output_type": "display_data",
          "data": {
            "image/png": "[encoded data removed]",
            "text/plain": [
              "<Figure size 432x288 with 1 Axes>"
            ]
          },
          "metadata": {
            "needs_background": "light"
          }
        }
      ]
    },
    {
      "cell_type": "markdown",
      "source": [
        "##DATA JANUARI 2022"
      ],
      "metadata": {
        "id": "JGYvcn-qo4NB"
      }
    },
    {
      "cell_type": "code",
      "source": [
        "all_januari = [df2_bulan.iloc[12,0],df2_bulan.iloc[24,0]]\n",
        "print(np.mean(all_januari))\n",
        "print(df2_bulan.iloc[36,0]*1.9)"
      ],
      "metadata": {
        "colab": {
          "base_uri": "https://localhost:8080/"
        },
        "id": "tPIQy2W-pNuL",
        "outputId": "6a586689-344a-4c3e-b8f0-66aaaa7290aa"
      },
      "execution_count": null,
      "outputs": [
        {
          "output_type": "stream",
          "name": "stdout",
          "text": [
            "4374920700.0\n",
            "3947344633.2999997\n"
          ]
        }
      ]
    },
    {
      "cell_type": "code",
      "source": [
        "df2_bulan.iloc[36,0] = np.mean(all_januari) "
      ],
      "metadata": {
        "id": "ilBV0OKqroyL"
      },
      "execution_count": null,
      "outputs": []
    },
    {
      "cell_type": "code",
      "source": [
        "df2_bulan.tail(1)"
      ],
      "metadata": {
        "colab": {
          "base_uri": "https://localhost:8080/",
          "height": 112
        },
        "id": "V-vw2CQ6rxY-",
        "outputId": "4e26803f-fd31-413d-b9b3-16e39068beed"
      },
      "execution_count": null,
      "outputs": [
        {
          "output_type": "execute_result",
          "data": {
            "text/html": [
              "\n",
              "  <div id=\"df-53a28ee4-2003-430e-8309-a943208aa03e\">\n",
              "    <div class=\"colab-df-container\">\n",
              "      <div>\n",
              "<style scoped>\n",
              "    .dataframe tbody tr th:only-of-type {\n",
              "        vertical-align: middle;\n",
              "    }\n",
              "\n",
              "    .dataframe tbody tr th {\n",
              "        vertical-align: top;\n",
              "    }\n",
              "\n",
              "    .dataframe thead th {\n",
              "        text-align: right;\n",
              "    }\n",
              "</style>\n",
              "<table border=\"1\" class=\"dataframe\">\n",
              "  <thead>\n",
              "    <tr style=\"text-align: right;\">\n",
              "      <th></th>\n",
              "      <th>Nominal_Donasi</th>\n",
              "    </tr>\n",
              "    <tr>\n",
              "      <th>Bulan</th>\n",
              "      <th></th>\n",
              "    </tr>\n",
              "  </thead>\n",
              "  <tbody>\n",
              "    <tr>\n",
              "      <th>2022-01-01</th>\n",
              "      <td>4374920700</td>\n",
              "    </tr>\n",
              "  </tbody>\n",
              "</table>\n",
              "</div>\n",
              "      <button class=\"colab-df-convert\" onclick=\"convertToInteractive('df-53a28ee4-2003-430e-8309-a943208aa03e')\"\n",
              "              title=\"Convert this dataframe to an interactive table.\"\n",
              "              style=\"display:none;\">\n",
              "        \n",
              "  <svg xmlns=\"http://www.w3.org/2000/svg\" height=\"24px\"viewBox=\"0 0 24 24\"\n",
              "       width=\"24px\">\n",
              "    <path d=\"M0 0h24v24H0V0z\" fill=\"none\"/>\n",
              "    <path d=\"M18.56 5.44l.94 2.06.94-2.06 2.06-.94-2.06-.94-.94-2.06-.94 2.06-2.06.94zm-11 1L8.5 8.5l.94-2.06 2.06-.94-2.06-.94L8.5 2.5l-.94 2.06-2.06.94zm10 10l.94 2.06.94-2.06 2.06-.94-2.06-.94-.94-2.06-.94 2.06-2.06.94z\"/><path d=\"M17.41 7.96l-1.37-1.37c-.4-.4-.92-.59-1.43-.59-.52 0-1.04.2-1.43.59L10.3 9.45l-7.72 7.72c-.78.78-.78 2.05 0 2.83L4 21.41c.39.39.9.59 1.41.59.51 0 1.02-.2 1.41-.59l7.78-7.78 2.81-2.81c.8-.78.8-2.07 0-2.86zM5.41 20L4 18.59l7.72-7.72 1.47 1.35L5.41 20z\"/>\n",
              "  </svg>\n",
              "      </button>\n",
              "      \n",
              "  <style>\n",
              "    .colab-df-container {\n",
              "      display:flex;\n",
              "      flex-wrap:wrap;\n",
              "      gap: 12px;\n",
              "    }\n",
              "\n",
              "    .colab-df-convert {\n",
              "      background-color: #E8F0FE;\n",
              "      border: none;\n",
              "      border-radius: 50%;\n",
              "      cursor: pointer;\n",
              "      display: none;\n",
              "      fill: #1967D2;\n",
              "      height: 32px;\n",
              "      padding: 0 0 0 0;\n",
              "      width: 32px;\n",
              "    }\n",
              "\n",
              "    .colab-df-convert:hover {\n",
              "      background-color: #E2EBFA;\n",
              "      box-shadow: 0px 1px 2px rgba(60, 64, 67, 0.3), 0px 1px 3px 1px rgba(60, 64, 67, 0.15);\n",
              "      fill: #174EA6;\n",
              "    }\n",
              "\n",
              "    [theme=dark] .colab-df-convert {\n",
              "      background-color: #3B4455;\n",
              "      fill: #D2E3FC;\n",
              "    }\n",
              "\n",
              "    [theme=dark] .colab-df-convert:hover {\n",
              "      background-color: #434B5C;\n",
              "      box-shadow: 0px 1px 3px 1px rgba(0, 0, 0, 0.15);\n",
              "      filter: drop-shadow(0px 1px 2px rgba(0, 0, 0, 0.3));\n",
              "      fill: #FFFFFF;\n",
              "    }\n",
              "  </style>\n",
              "\n",
              "      <script>\n",
              "        const buttonEl =\n",
              "          document.querySelector('#df-53a28ee4-2003-430e-8309-a943208aa03e button.colab-df-convert');\n",
              "        buttonEl.style.display =\n",
              "          google.colab.kernel.accessAllowed ? 'block' : 'none';\n",
              "\n",
              "        async function convertToInteractive(key) {\n",
              "          const element = document.querySelector('#df-53a28ee4-2003-430e-8309-a943208aa03e');\n",
              "          const dataTable =\n",
              "            await google.colab.kernel.invokeFunction('convertToInteractive',\n",
              "                                                     [key], {});\n",
              "          if (!dataTable) return;\n",
              "\n",
              "          const docLinkHtml = 'Like what you see? Visit the ' +\n",
              "            '<a target=\"_blank\" href=https://colab.research.google.com/notebooks/data_table.ipynb>data table notebook</a>'\n",
              "            + ' to learn more about interactive tables.';\n",
              "          element.innerHTML = '';\n",
              "          dataTable['output_type'] = 'display_data';\n",
              "          await google.colab.output.renderOutput(dataTable, element);\n",
              "          const docLink = document.createElement('div');\n",
              "          docLink.innerHTML = docLinkHtml;\n",
              "          element.appendChild(docLink);\n",
              "        }\n",
              "      </script>\n",
              "    </div>\n",
              "  </div>\n",
              "  "
            ],
            "text/plain": [
              "            Nominal_Donasi\n",
              "Bulan                     \n",
              "2022-01-01      4374920700"
            ]
          },
          "metadata": {},
          "execution_count": 49
        }
      ]
    },
    {
      "cell_type": "markdown",
      "source": [
        "##Split Dataset for TRAIN and TEST"
      ],
      "metadata": {
        "id": "p8y_c5crjo8y"
      }
    },
    {
      "cell_type": "code",
      "source": [
        "X_data = df2_bulan.Nominal_Donasi"
      ],
      "metadata": {
        "id": "jecAU-NP1ar0"
      },
      "execution_count": null,
      "outputs": []
    },
    {
      "cell_type": "code",
      "source": [
        "print(len(X_data))"
      ],
      "metadata": {
        "colab": {
          "base_uri": "https://localhost:8080/"
        },
        "id": "1ZJ9DnkHQqk2",
        "outputId": "74c30bb0-a7fd-4c69-a676-c07396904920"
      },
      "execution_count": null,
      "outputs": [
        {
          "output_type": "stream",
          "name": "stdout",
          "text": [
            "37\n"
          ]
        }
      ]
    },
    {
      "cell_type": "code",
      "source": [
        "#membagi dataset\n",
        "train = X_data[:27]"
      ],
      "metadata": {
        "id": "qzPNgpmEWZKg"
      },
      "execution_count": null,
      "outputs": []
    },
    {
      "cell_type": "code",
      "source": [
        "test= X_data[27:]"
      ],
      "metadata": {
        "id": "Kl2HpgeLeEC7"
      },
      "execution_count": null,
      "outputs": []
    },
    {
      "cell_type": "code",
      "source": [
        "print(len(test), len(train))"
      ],
      "metadata": {
        "colab": {
          "base_uri": "https://localhost:8080/"
        },
        "id": "JDxTj59AgjFn",
        "outputId": "f2a6f6f7-2745-40a0-84bc-38203caf01bc"
      },
      "execution_count": null,
      "outputs": [
        {
          "output_type": "stream",
          "name": "stdout",
          "text": [
            "10 27\n"
          ]
        }
      ]
    },
    {
      "cell_type": "markdown",
      "source": [
        "##AR Model"
      ],
      "metadata": {
        "id": "wmyfVrdJ42WC"
      }
    },
    {
      "cell_type": "code",
      "source": [
        "from statsmodels.tsa.ar_model import AR"
      ],
      "metadata": {
        "id": "BCAuwdvY48Rq"
      },
      "execution_count": null,
      "outputs": []
    },
    {
      "cell_type": "code",
      "source": [
        "predictions_AR = []"
      ],
      "metadata": {
        "id": "7FGzhrGV5b9q"
      },
      "execution_count": null,
      "outputs": []
    },
    {
      "cell_type": "code",
      "source": [
        "model_ar = AR(train)"
      ],
      "metadata": {
        "id": "MTJKgq5G5DbC"
      },
      "execution_count": null,
      "outputs": []
    },
    {
      "cell_type": "code",
      "source": [
        "model_ar_fit = model_ar.fit()"
      ],
      "metadata": {
        "id": "YYP6EVR-5M-y"
      },
      "execution_count": null,
      "outputs": []
    },
    {
      "cell_type": "code",
      "source": [
        "predictions_AR =model_ar_fit.predict(start= 27, end= 36)"
      ],
      "metadata": {
        "id": "5kUPE9xs5UfD"
      },
      "execution_count": null,
      "outputs": []
    },
    {
      "cell_type": "code",
      "source": [
        "test"
      ],
      "metadata": {
        "id": "ByjFKrVC50ap",
        "colab": {
          "base_uri": "https://localhost:8080/"
        },
        "outputId": "ba910857-5813-431e-a967-91fc77fdfa57"
      },
      "execution_count": null,
      "outputs": [
        {
          "output_type": "execute_result",
          "data": {
            "text/plain": [
              "Bulan\n",
              "2021-04-01    5284449915\n",
              "2021-05-01    9755020955\n",
              "2021-06-01    3650383905\n",
              "2021-07-01    3665498605\n",
              "2021-08-01    4226525632\n",
              "2021-09-01    3765171862\n",
              "2021-10-01    3988618115\n",
              "2021-11-01    3973212290\n",
              "2021-12-01    5011302755\n",
              "2022-01-01    4374920700\n",
              "Name: Nominal_Donasi, dtype: int64"
            ]
          },
          "metadata": {},
          "execution_count": 162
        }
      ]
    },
    {
      "cell_type": "code",
      "source": [
        "plt.plot(test)\n",
        "plt.plot(predictions_AR)"
      ],
      "metadata": {
        "colab": {
          "base_uri": "https://localhost:8080/"
        },
        "id": "4YhDMyhP6Hhj",
        "outputId": "fe66c06e-1401-428b-8e25-c46ee5cfc49b"
      },
      "execution_count": null,
      "outputs": [
        {
          "output_type": "execute_result",
          "data": {
            "text/plain": [
              "[<matplotlib.lines.Line2D at 0x7fc24ec691d0>]"
            ]
          },
          "metadata": {},
          "execution_count": 163
        },
        {
          "output_type": "display_data",
          "data": {
            "image/png": "[encoded data removed]",
            "text/plain": [
              "<Figure size 432x288 with 1 Axes>"
            ]
          },
          "metadata": {
            "needs_background": "light"
          }
        }
      ]
    },
    {
      "cell_type": "markdown",
      "source": [
        "##ARIMA Model"
      ],
      "metadata": {
        "id": "Drke9f9vjzOi"
      }
    },
    {
      "cell_type": "code",
      "source": [
        "from statsmodels.tsa.arima_model import ARIMA\n",
        "model_arima=ARIMA(train,order=(1,1,1)) # (p -> AR, d -> I (stationarity) , q -> MA)\n",
        "model_arima_fit=model_arima.fit()\n",
        "print(model_arima_fit.aic)"
      ],
      "metadata": {
        "colab": {
          "base_uri": "https://localhost:8080/"
        },
        "id": "9FdsdKmeeool",
        "outputId": "35570270-9b27-4e08-c9cd-ba1ce33d1596"
      },
      "execution_count": null,
      "outputs": [
        {
          "output_type": "stream",
          "name": "stdout",
          "text": [
            "1191.295691126019\n"
          ]
        }
      ]
    },
    {
      "cell_type": "code",
      "source": [
        "predictions_arima=model_arima_fit.predict(start=27,end=36, typ='levels').rename('ARIMA')\n",
        "predictions_arima"
      ],
      "metadata": {
        "id": "dxjqsVtSey-a",
        "colab": {
          "base_uri": "https://localhost:8080/"
        },
        "outputId": "a7f1a468-71c9-4e9a-e5ad-d17d31318a93"
      },
      "execution_count": null,
      "outputs": [
        {
          "output_type": "execute_result",
          "data": {
            "text/plain": [
              "2021-04-01    4.751738e+09\n",
              "2021-05-01    4.880899e+09\n",
              "2021-06-01    5.019575e+09\n",
              "2021-07-01    5.157512e+09\n",
              "2021-08-01    5.295506e+09\n",
              "2021-09-01    5.433496e+09\n",
              "2021-10-01    5.571486e+09\n",
              "2021-11-01    5.709477e+09\n",
              "2021-12-01    5.847467e+09\n",
              "2022-01-01    5.985457e+09\n",
              "Freq: MS, Name: ARIMA, dtype: float64"
            ]
          },
          "metadata": {},
          "execution_count": 165
        }
      ]
    },
    {
      "cell_type": "code",
      "source": [
        "test"
      ],
      "metadata": {
        "colab": {
          "base_uri": "https://localhost:8080/"
        },
        "id": "tL6GVgU87VOY",
        "outputId": "14d8ef61-611b-4e51-b496-ff01980178a7"
      },
      "execution_count": null,
      "outputs": [
        {
          "output_type": "execute_result",
          "data": {
            "text/plain": [
              "Bulan\n",
              "2021-04-01    5284449915\n",
              "2021-05-01    9755020955\n",
              "2021-06-01    3650383905\n",
              "2021-07-01    3665498605\n",
              "2021-08-01    4226525632\n",
              "2021-09-01    3765171862\n",
              "2021-10-01    3988618115\n",
              "2021-11-01    3973212290\n",
              "2021-12-01    5011302755\n",
              "2022-01-01    4374920700\n",
              "Name: Nominal_Donasi, dtype: int64"
            ]
          },
          "metadata": {},
          "execution_count": 166
        }
      ]
    },
    {
      "cell_type": "code",
      "source": [
        "test.plot(legend=True)\n",
        "predictions_arima.plot(legend=True)"
      ],
      "metadata": {
        "colab": {
          "base_uri": "https://localhost:8080/"
        },
        "id": "RepW6KqQe0eq",
        "outputId": "9088c2d8-bb17-40cb-fa33-137fc4ab4959"
      },
      "execution_count": null,
      "outputs": [
        {
          "output_type": "execute_result",
          "data": {
            "text/plain": [
              "<matplotlib.axes._subplots.AxesSubplot at 0x7fc24ec0a510>"
            ]
          },
          "metadata": {},
          "execution_count": 167
        },
        {
          "output_type": "display_data",
          "data": {
            "image/png": "[encoded data removed]",
            "text/plain": [
              "<Figure size 432x288 with 1 Axes>"
            ]
          },
          "metadata": {
            "needs_background": "light"
          }
        }
      ]
    },
    {
      "cell_type": "code",
      "source": [
        "##MODEL EVALUATION\n",
        "print(\"ARIMA\")\n",
        "print(\"MAE: \",mean_absolute_error(test,predictions_arima))\n",
        "print(\"MSE: \",mean_squared_error(test,predictions_arima))\n",
        "print(\"RMSE: \", np.sqrt(mean_squared_error(test,predictions_arima)))\n",
        "print(\"R2: \",r2_score(test,predictions_arima))\n",
        "print(\"\")"
      ],
      "metadata": {
        "colab": {
          "base_uri": "https://localhost:8080/"
        },
        "id": "Dhc4tHyOfGAG",
        "outputId": "917fe288-9411-4f09-e743-0bbad7011963"
      },
      "execution_count": null,
      "outputs": [
        {
          "output_type": "stream",
          "name": "stdout",
          "text": [
            "ARIMA\n",
            "MAE:  1677117524.8683372\n",
            "MSE:  4.088074057100273e+18\n",
            "RMSE:  2021898626.8110163\n",
            "R2:  -0.34682837518532517\n",
            "\n"
          ]
        }
      ]
    },
    {
      "cell_type": "markdown",
      "source": [
        "## Hyperparameter Tunning"
      ],
      "metadata": {
        "id": "rc6m1yNsp_JC"
      }
    },
    {
      "cell_type": "code",
      "source": [
        "import warnings\n",
        "warnings.filterwarnings('ignore')"
      ],
      "metadata": {
        "id": "nmOqBQpN07HX"
      },
      "execution_count": null,
      "outputs": []
    },
    {
      "cell_type": "code",
      "source": [
        "import itertools"
      ],
      "metadata": {
        "id": "MEr4hwWwFlA4"
      },
      "execution_count": null,
      "outputs": []
    },
    {
      "cell_type": "code",
      "source": [
        "p=q=range(0,5)"
      ],
      "metadata": {
        "id": "OYrOVwAp5dWj"
      },
      "execution_count": null,
      "outputs": []
    },
    {
      "cell_type": "code",
      "source": [
        "d = range(0,2)"
      ],
      "metadata": {
        "id": "hR_bnaEA0MeT"
      },
      "execution_count": null,
      "outputs": []
    },
    {
      "cell_type": "code",
      "source": [
        "pdq =list(itertools.product(p,d,q))"
      ],
      "metadata": {
        "id": "jgEFa5nrF82l"
      },
      "execution_count": null,
      "outputs": []
    },
    {
      "cell_type": "code",
      "source": [
        "for param in pdq:\n",
        "  try:\n",
        "    model=ARIMA(train,order=param) # (p -> AR, d -> I (stationarity) , q -> MA)\n",
        "    results=model.fit()\n",
        "    print(param,results.aic)\n",
        "  except:\n",
        "    continue\n",
        "    "
      ],
      "metadata": {
        "colab": {
          "base_uri": "https://localhost:8080/"
        },
        "id": "0Hjg4p6bGQLZ",
        "outputId": "562b9db7-d39c-40d1-b0ff-a33a693f9dc6"
      },
      "execution_count": null,
      "outputs": [
        {
          "output_type": "stream",
          "name": "stdout",
          "text": [
            "(0, 0, 0) 1225.2212979034432\n",
            "(0, 0, 1) 1226.964937549175\n",
            "(0, 0, 2) 1228.196300586616\n",
            "(0, 0, 3) 1229.8306642881407\n",
            "(0, 0, 4) 1230.773243423507\n",
            "(0, 1, 0) 1198.3954832692073\n",
            "(0, 1, 1) 1189.3785239915628\n",
            "(1, 0, 0) 1227.0198247876697\n",
            "(1, 1, 0) 1193.3655681341418\n",
            "(1, 1, 1) 1191.295691126019\n",
            "(1, 1, 2) 1192.265437203581\n",
            "(1, 1, 3) 1195.2845671547516\n",
            "(2, 0, 0) 1228.7893271163607\n",
            "(2, 0, 1) 1229.2401045489446\n",
            "(2, 0, 2) 1231.2478488797503\n",
            "(2, 1, 0) 1192.3866471087997\n",
            "(2, 1, 1) 1193.2634548034293\n",
            "(2, 1, 2) 1194.0950094459781\n",
            "(2, 1, 3) 1197.2922518901578\n",
            "(3, 0, 0) 1230.67848499814\n",
            "(3, 0, 1) 1231.257967085048\n",
            "(3, 0, 2) 1232.2681637794435\n",
            "(3, 1, 0) 1194.0279426221814\n",
            "(3, 1, 1) 1195.2017991141024\n",
            "(3, 1, 2) 1197.26356125488\n",
            "(3, 1, 4) 1199.2350942411233\n",
            "(4, 0, 0) 1230.9042677722678\n",
            "(4, 0, 1) 1234.67851334883\n",
            "(4, 0, 2) 1234.3358727787622\n",
            "(4, 0, 3) 1235.6097076526733\n",
            "(4, 1, 0) 1195.687769304673\n",
            "(4, 1, 1) 1197.002494043018\n",
            "(4, 1, 2) 1196.6271514684565\n",
            "(4, 1, 4) 1200.6943757958775\n"
          ]
        }
      ]
    },
    {
      "cell_type": "markdown",
      "source": [
        "## FORECAST INTO FUTURE"
      ],
      "metadata": {
        "id": "gOeVIIlrkKh5"
      }
    },
    {
      "cell_type": "code",
      "source": [
        "# Forecast into future\n",
        "model=ARIMA(df3['Nominal_Donasi'],order=(1,1,1))\n",
        "results=model.fit()\n",
        "fcast=results.predict(start=len(df3),end=len(df3)+12,typ='levels').rename('ARIMA(1,1,1) forecast')"
      ],
      "metadata": {
        "id": "-fnhLPykhZy7"
      },
      "execution_count": null,
      "outputs": []
    },
    {
      "cell_type": "code",
      "source": [
        "df3['Nominal_Donasi'].plot(legend=True,figsize=(8,5))\n",
        "fcast.plot(legend=True)"
      ],
      "metadata": {
        "colab": {
          "base_uri": "https://localhost:8080/",
          "height": 362
        },
        "id": "mJS43lmthwym",
        "outputId": "e82c71db-3dfd-476d-e8b7-cdd227ad01ab"
      },
      "execution_count": null,
      "outputs": [
        {
          "output_type": "execute_result",
          "data": {
            "text/plain": [
              "<matplotlib.axes._subplots.AxesSubplot at 0x7f3b0bfe1950>"
            ]
          },
          "metadata": {},
          "execution_count": 114
        },
        {
          "output_type": "display_data",
          "data": {
            "image/png": "[encoded data removed]",
            "text/plain": [
              "<Figure size 576x360 with 1 Axes>"
            ]
          },
          "metadata": {
            "needs_background": "light"
          }
        }
      ]
    },
    {
      "cell_type": "markdown",
      "source": [
        "##SARIMAX"
      ],
      "metadata": {
        "id": "9YiYwoXvZ0EK"
      }
    },
    {
      "cell_type": "code",
      "source": [
        "from statsmodels.tsa.statespace.sarimax import SARIMAX"
      ],
      "metadata": {
        "id": "aZBTzsKaaN5q"
      },
      "execution_count": null,
      "outputs": []
    },
    {
      "cell_type": "code",
      "source": [
        "model=SARIMAX(train,order=(1,1,1),seasonal_order=(1,0,0,12))\n",
        "results=model.fit()"
      ],
      "metadata": {
        "id": "SELyzqc5aT3l",
        "colab": {
          "base_uri": "https://localhost:8080/"
        },
        "outputId": "18f36684-56ec-47a5-cf88-ab9ca1a49531"
      },
      "execution_count": null,
      "outputs": [
        {
          "output_type": "stream",
          "name": "stderr",
          "text": [
            "/usr/local/lib/python3.7/dist-packages/statsmodels/tsa/base/tsa_model.py:165: ValueWarning: No frequency information was provided, so inferred frequency MS will be used.\n",
            "  % freq, ValueWarning)\n"
          ]
        }
      ]
    },
    {
      "cell_type": "code",
      "source": [
        "predictions1=results.predict(start=27,end=36,typ='levels').rename('SARIMAX Predictions')"
      ],
      "metadata": {
        "id": "63I-eUIdavsr"
      },
      "execution_count": null,
      "outputs": []
    },
    {
      "cell_type": "code",
      "source": [
        "predictions2=results.predict(start=0,end=26,typ='levels').rename('SARIMAX Predictions')"
      ],
      "metadata": {
        "id": "ccdN0GEbeXQN"
      },
      "execution_count": null,
      "outputs": []
    },
    {
      "cell_type": "code",
      "source": [
        "train.plot(legend=True,figsize=(8,5))\n",
        "predictions2.plot(legend=True)"
      ],
      "metadata": {
        "colab": {
          "base_uri": "https://localhost:8080/",
          "height": 373
        },
        "id": "p4yZpP6lerD_",
        "outputId": "a4a90a08-aece-4303-d6bd-38f8884f948a"
      },
      "execution_count": null,
      "outputs": [
        {
          "output_type": "execute_result",
          "data": {
            "text/plain": [
              "<matplotlib.axes._subplots.AxesSubplot at 0x7feab3346f50>"
            ]
          },
          "metadata": {},
          "execution_count": 59
        },
        {
          "output_type": "display_data",
          "data": {
            "image/png": "[encoded data removed]",
            "text/plain": [
              "<Figure size 576x360 with 1 Axes>"
            ]
          },
          "metadata": {
            "needs_background": "light"
          }
        }
      ]
    },
    {
      "cell_type": "code",
      "source": [
        "test.plot(legend=True,figsize=(8,5))\n",
        "predictions1.plot(legend=True)"
      ],
      "metadata": {
        "colab": {
          "base_uri": "https://localhost:8080/",
          "height": 373
        },
        "id": "BF6xGuHEax07",
        "outputId": "6e8028b6-d9fd-4867-a662-48caddf06b2a"
      },
      "execution_count": null,
      "outputs": [
        {
          "output_type": "execute_result",
          "data": {
            "text/plain": [
              "<matplotlib.axes._subplots.AxesSubplot at 0x7feab7837e50>"
            ]
          },
          "metadata": {},
          "execution_count": 60
        },
        {
          "output_type": "display_data",
          "data": {
            "image/png": "[encoded data removed]",
            "text/plain": [
              "<Figure size 576x360 with 1 Axes>"
            ]
          },
          "metadata": {
            "needs_background": "light"
          }
        }
      ]
    },
    {
      "cell_type": "code",
      "source": [
        "print(\"SARIMAX TRAIN\")\n",
        "print(\"MAE: \",mean_absolute_error(train,predictions2))\n",
        "print(\"MSE: \",mean_squared_error(train,predictions2))\n",
        "print(\"RMSE: \", np.sqrt(mean_squared_error(train,predictions2)))\n",
        "print(\"R2: \",r2_score(train,predictions2))\n",
        "print(\"\")"
      ],
      "metadata": {
        "colab": {
          "base_uri": "https://localhost:8080/"
        },
        "id": "kGOeypSrd3Lq",
        "outputId": "dbbef459-6d80-47ba-dfa8-7fd2a2e82c5c"
      },
      "execution_count": null,
      "outputs": [
        {
          "output_type": "stream",
          "name": "stdout",
          "text": [
            "SARIMAX TRAIN\n",
            "MAE:  1311730142.3860214\n",
            "MSE:  2.992410938072787e+18\n",
            "RMSE:  1729858646.84742\n",
            "R2:  -0.16191522043310402\n",
            "\n"
          ]
        }
      ]
    },
    {
      "cell_type": "code",
      "source": [
        "print(\"SARIMAX\")\n",
        "print(\"MAE: \",mean_absolute_error(test,predictions1))\n",
        "print(\"MSE: \",mean_squared_error(test,predictions1))\n",
        "print(\"RMSE: \", np.sqrt(mean_squared_error(test,predictions1)))\n",
        "print(\"R2: \",r2_score(test,predictions1))\n",
        "print(\"\")"
      ],
      "metadata": {
        "colab": {
          "base_uri": "https://localhost:8080/"
        },
        "id": "qYWhb8rea4xD",
        "outputId": "deda47cf-2b1f-4183-dc3d-ce119535b5fb"
      },
      "execution_count": null,
      "outputs": [
        {
          "output_type": "stream",
          "name": "stdout",
          "text": [
            "SARIMAX\n",
            "MAE:  651695866.4901639\n",
            "MSE:  7.743182956454547e+17\n",
            "RMSE:  879953575.8467345\n",
            "R2:  0.7448984931696265\n",
            "\n"
          ]
        }
      ]
    },
    {
      "cell_type": "code",
      "source": [
        "model=SARIMAX(df2_bulan['Nominal_Donasi'],order=(1,1,1),seasonal_order=(1,0,0,12))\n",
        "results=model.fit()\n",
        "fcast=results.predict(start=len(df2_bulan),end=len(df2_bulan)+10,typ='levels').rename('SARIMAX Forecast')"
      ],
      "metadata": {
        "id": "cps7q8mobTZ8",
        "colab": {
          "base_uri": "https://localhost:8080/"
        },
        "outputId": "20d5a27c-1863-42a9-d7ca-0059d54abd11"
      },
      "execution_count": null,
      "outputs": [
        {
          "output_type": "stream",
          "name": "stderr",
          "text": [
            "/usr/local/lib/python3.7/dist-packages/statsmodels/tsa/base/tsa_model.py:165: ValueWarning: No frequency information was provided, so inferred frequency MS will be used.\n",
            "  % freq, ValueWarning)\n"
          ]
        }
      ]
    },
    {
      "cell_type": "code",
      "source": [
        "df2_bulan.plot(legend=True,figsize=(8,5))\n",
        "fcast.plot(legend=True)"
      ],
      "metadata": {
        "colab": {
          "base_uri": "https://localhost:8080/",
          "height": 373
        },
        "id": "NvzhAdsGbUQy",
        "outputId": "9ecf63fa-f44a-4e41-e624-d91642e21982"
      },
      "execution_count": null,
      "outputs": [
        {
          "output_type": "execute_result",
          "data": {
            "text/plain": [
              "<matplotlib.axes._subplots.AxesSubplot at 0x7feab32e8310>"
            ]
          },
          "metadata": {},
          "execution_count": 64
        },
        {
          "output_type": "display_data",
          "data": {
            "image/png": "[encoded data removed]",
            "text/plain": [
              "<Figure size 576x360 with 1 Axes>"
            ]
          },
          "metadata": {
            "needs_background": "light"
          }
        }
      ]
    },
    {
      "cell_type": "code",
      "source": [
        "predict_dataframe = pd.DataFrame(fcast)"
      ],
      "metadata": {
        "id": "SkRMrmaDtC9a"
      },
      "execution_count": null,
      "outputs": []
    },
    {
      "cell_type": "code",
      "source": [
        "predict_dataframe.head()"
      ],
      "metadata": {
        "colab": {
          "base_uri": "https://localhost:8080/",
          "height": 206
        },
        "id": "--JZnkOktOIQ",
        "outputId": "cb7e701e-e025-4117-c3a1-cbb3bcffa3af"
      },
      "execution_count": null,
      "outputs": [
        {
          "output_type": "execute_result",
          "data": {
            "text/html": [
              "\n",
              "  <div id=\"df-41fa7fb8-de4d-40f1-bb56-0bdb0436ffd6\">\n",
              "    <div class=\"colab-df-container\">\n",
              "      <div>\n",
              "<style scoped>\n",
              "    .dataframe tbody tr th:only-of-type {\n",
              "        vertical-align: middle;\n",
              "    }\n",
              "\n",
              "    .dataframe tbody tr th {\n",
              "        vertical-align: top;\n",
              "    }\n",
              "\n",
              "    .dataframe thead th {\n",
              "        text-align: right;\n",
              "    }\n",
              "</style>\n",
              "<table border=\"1\" class=\"dataframe\">\n",
              "  <thead>\n",
              "    <tr style=\"text-align: right;\">\n",
              "      <th></th>\n",
              "      <th>SARIMAX Forecast</th>\n",
              "    </tr>\n",
              "  </thead>\n",
              "  <tbody>\n",
              "    <tr>\n",
              "      <th>2022-02-01</th>\n",
              "      <td>3.781497e+09</td>\n",
              "    </tr>\n",
              "    <tr>\n",
              "      <th>2022-03-01</th>\n",
              "      <td>4.495354e+09</td>\n",
              "    </tr>\n",
              "    <tr>\n",
              "      <th>2022-04-01</th>\n",
              "      <td>5.065801e+09</td>\n",
              "    </tr>\n",
              "    <tr>\n",
              "      <th>2022-05-01</th>\n",
              "      <td>8.266611e+09</td>\n",
              "    </tr>\n",
              "    <tr>\n",
              "      <th>2022-06-01</th>\n",
              "      <td>3.903965e+09</td>\n",
              "    </tr>\n",
              "  </tbody>\n",
              "</table>\n",
              "</div>\n",
              "      <button class=\"colab-df-convert\" onclick=\"convertToInteractive('df-41fa7fb8-de4d-40f1-bb56-0bdb0436ffd6')\"\n",
              "              title=\"Convert this dataframe to an interactive table.\"\n",
              "              style=\"display:none;\">\n",
              "        \n",
              "  <svg xmlns=\"http://www.w3.org/2000/svg\" height=\"24px\"viewBox=\"0 0 24 24\"\n",
              "       width=\"24px\">\n",
              "    <path d=\"M0 0h24v24H0V0z\" fill=\"none\"/>\n",
              "    <path d=\"M18.56 5.44l.94 2.06.94-2.06 2.06-.94-2.06-.94-.94-2.06-.94 2.06-2.06.94zm-11 1L8.5 8.5l.94-2.06 2.06-.94-2.06-.94L8.5 2.5l-.94 2.06-2.06.94zm10 10l.94 2.06.94-2.06 2.06-.94-2.06-.94-.94-2.06-.94 2.06-2.06.94z\"/><path d=\"M17.41 7.96l-1.37-1.37c-.4-.4-.92-.59-1.43-.59-.52 0-1.04.2-1.43.59L10.3 9.45l-7.72 7.72c-.78.78-.78 2.05 0 2.83L4 21.41c.39.39.9.59 1.41.59.51 0 1.02-.2 1.41-.59l7.78-7.78 2.81-2.81c.8-.78.8-2.07 0-2.86zM5.41 20L4 18.59l7.72-7.72 1.47 1.35L5.41 20z\"/>\n",
              "  </svg>\n",
              "      </button>\n",
              "      \n",
              "  <style>\n",
              "    .colab-df-container {\n",
              "      display:flex;\n",
              "      flex-wrap:wrap;\n",
              "      gap: 12px;\n",
              "    }\n",
              "\n",
              "    .colab-df-convert {\n",
              "      background-color: #E8F0FE;\n",
              "      border: none;\n",
              "      border-radius: 50%;\n",
              "      cursor: pointer;\n",
              "      display: none;\n",
              "      fill: #1967D2;\n",
              "      height: 32px;\n",
              "      padding: 0 0 0 0;\n",
              "      width: 32px;\n",
              "    }\n",
              "\n",
              "    .colab-df-convert:hover {\n",
              "      background-color: #E2EBFA;\n",
              "      box-shadow: 0px 1px 2px rgba(60, 64, 67, 0.3), 0px 1px 3px 1px rgba(60, 64, 67, 0.15);\n",
              "      fill: #174EA6;\n",
              "    }\n",
              "\n",
              "    [theme=dark] .colab-df-convert {\n",
              "      background-color: #3B4455;\n",
              "      fill: #D2E3FC;\n",
              "    }\n",
              "\n",
              "    [theme=dark] .colab-df-convert:hover {\n",
              "      background-color: #434B5C;\n",
              "      box-shadow: 0px 1px 3px 1px rgba(0, 0, 0, 0.15);\n",
              "      filter: drop-shadow(0px 1px 2px rgba(0, 0, 0, 0.3));\n",
              "      fill: #FFFFFF;\n",
              "    }\n",
              "  </style>\n",
              "\n",
              "      <script>\n",
              "        const buttonEl =\n",
              "          document.querySelector('#df-41fa7fb8-de4d-40f1-bb56-0bdb0436ffd6 button.colab-df-convert');\n",
              "        buttonEl.style.display =\n",
              "          google.colab.kernel.accessAllowed ? 'block' : 'none';\n",
              "\n",
              "        async function convertToInteractive(key) {\n",
              "          const element = document.querySelector('#df-41fa7fb8-de4d-40f1-bb56-0bdb0436ffd6');\n",
              "          const dataTable =\n",
              "            await google.colab.kernel.invokeFunction('convertToInteractive',\n",
              "                                                     [key], {});\n",
              "          if (!dataTable) return;\n",
              "\n",
              "          const docLinkHtml = 'Like what you see? Visit the ' +\n",
              "            '<a target=\"_blank\" href=https://colab.research.google.com/notebooks/data_table.ipynb>data table notebook</a>'\n",
              "            + ' to learn more about interactive tables.';\n",
              "          element.innerHTML = '';\n",
              "          dataTable['output_type'] = 'display_data';\n",
              "          await google.colab.output.renderOutput(dataTable, element);\n",
              "          const docLink = document.createElement('div');\n",
              "          docLink.innerHTML = docLinkHtml;\n",
              "          element.appendChild(docLink);\n",
              "        }\n",
              "      </script>\n",
              "    </div>\n",
              "  </div>\n",
              "  "
            ],
            "text/plain": [
              "            SARIMAX Forecast\n",
              "2022-02-01      3.781497e+09\n",
              "2022-03-01      4.495354e+09\n",
              "2022-04-01      5.065801e+09\n",
              "2022-05-01      8.266611e+09\n",
              "2022-06-01      3.903965e+09"
            ]
          },
          "metadata": {},
          "execution_count": 66
        }
      ]
    },
    {
      "cell_type": "code",
      "source": [
        "#prediksi donasi mizan amanah tahun 2022\n",
        "np.sum(fcast)+np.mean(all_januari)"
      ],
      "metadata": {
        "colab": {
          "base_uri": "https://localhost:8080/"
        },
        "id": "kQUfV6cnsvr8",
        "outputId": "f2519517-4914-4bea-9800-9e3d193558c0"
      },
      "execution_count": null,
      "outputs": [
        {
          "output_type": "execute_result",
          "data": {
            "text/plain": [
              "55271552499.167175"
            ]
          },
          "metadata": {},
          "execution_count": 67
        }
      ]
    },
    {
      "cell_type": "code",
      "source": [
        "df_concat = pd.concat([df2_bulan,predict_dataframe], axis=0)"
      ],
      "metadata": {
        "id": "JFsh3T_0yA7R"
      },
      "execution_count": null,
      "outputs": []
    },
    {
      "cell_type": "code",
      "source": [
        "df_concat['Nominal_Donasi']= df_concat['Nominal_Donasi'].replace(np.nan,0)"
      ],
      "metadata": {
        "id": "A4taKulj59y_"
      },
      "execution_count": null,
      "outputs": []
    },
    {
      "cell_type": "code",
      "source": [
        "df_concat['SARIMAX Forecast']= df_concat['SARIMAX Forecast'].replace(np.nan,0)"
      ],
      "metadata": {
        "id": "Syg9UYgZ6bqm"
      },
      "execution_count": null,
      "outputs": []
    },
    {
      "cell_type": "code",
      "source": [
        "df_concat.reset_index(inplace= True)"
      ],
      "metadata": {
        "id": "B9mg9-6U6nQ9"
      },
      "execution_count": null,
      "outputs": []
    },
    {
      "cell_type": "code",
      "source": [
        "df_concat.dtypes"
      ],
      "metadata": {
        "colab": {
          "base_uri": "https://localhost:8080/"
        },
        "id": "KAcMrbn86ydg",
        "outputId": "314fb345-b8ec-4693-a7fb-764a7325375c"
      },
      "execution_count": null,
      "outputs": [
        {
          "output_type": "execute_result",
          "data": {
            "text/plain": [
              "index               datetime64[ns]\n",
              "Nominal_Donasi             float64\n",
              "SARIMAX Forecast           float64\n",
              "dtype: object"
            ]
          },
          "metadata": {},
          "execution_count": 103
        }
      ]
    },
    {
      "cell_type": "code",
      "source": [
        "df_concat.rename(columns={'index': 'Tanggal'}, inplace= True)"
      ],
      "metadata": {
        "id": "5D3xXgKU66EO"
      },
      "execution_count": null,
      "outputs": []
    },
    {
      "cell_type": "code",
      "source": [
        "df_concat.tail()"
      ],
      "metadata": {
        "colab": {
          "base_uri": "https://localhost:8080/",
          "height": 206
        },
        "id": "7tT5v9dz3_uy",
        "outputId": "4f40ee6c-7fb3-4ef9-b3f9-e90172e83767"
      },
      "execution_count": null,
      "outputs": [
        {
          "output_type": "execute_result",
          "data": {
            "text/html": [
              "\n",
              "  <div id=\"df-4537dff6-f6a1-4499-badd-7227e6440ffb\">\n",
              "    <div class=\"colab-df-container\">\n",
              "      <div>\n",
              "<style scoped>\n",
              "    .dataframe tbody tr th:only-of-type {\n",
              "        vertical-align: middle;\n",
              "    }\n",
              "\n",
              "    .dataframe tbody tr th {\n",
              "        vertical-align: top;\n",
              "    }\n",
              "\n",
              "    .dataframe thead th {\n",
              "        text-align: right;\n",
              "    }\n",
              "</style>\n",
              "<table border=\"1\" class=\"dataframe\">\n",
              "  <thead>\n",
              "    <tr style=\"text-align: right;\">\n",
              "      <th></th>\n",
              "      <th>Tanggal</th>\n",
              "      <th>Nominal_Donasi</th>\n",
              "      <th>SARIMAX Forecast</th>\n",
              "    </tr>\n",
              "  </thead>\n",
              "  <tbody>\n",
              "    <tr>\n",
              "      <th>43</th>\n",
              "      <td>2022-08-01</td>\n",
              "      <td>0.0</td>\n",
              "      <td>4.317289e+09</td>\n",
              "    </tr>\n",
              "    <tr>\n",
              "      <th>44</th>\n",
              "      <td>2022-09-01</td>\n",
              "      <td>0.0</td>\n",
              "      <td>3.987634e+09</td>\n",
              "    </tr>\n",
              "    <tr>\n",
              "      <th>45</th>\n",
              "      <td>2022-10-01</td>\n",
              "      <td>0.0</td>\n",
              "      <td>4.147488e+09</td>\n",
              "    </tr>\n",
              "    <tr>\n",
              "      <th>46</th>\n",
              "      <td>2022-11-01</td>\n",
              "      <td>0.0</td>\n",
              "      <td>4.136517e+09</td>\n",
              "    </tr>\n",
              "    <tr>\n",
              "      <th>47</th>\n",
              "      <td>2022-12-01</td>\n",
              "      <td>0.0</td>\n",
              "      <td>4.878753e+09</td>\n",
              "    </tr>\n",
              "  </tbody>\n",
              "</table>\n",
              "</div>\n",
              "      <button class=\"colab-df-convert\" onclick=\"convertToInteractive('df-4537dff6-f6a1-4499-badd-7227e6440ffb')\"\n",
              "              title=\"Convert this dataframe to an interactive table.\"\n",
              "              style=\"display:none;\">\n",
              "        \n",
              "  <svg xmlns=\"http://www.w3.org/2000/svg\" height=\"24px\"viewBox=\"0 0 24 24\"\n",
              "       width=\"24px\">\n",
              "    <path d=\"M0 0h24v24H0V0z\" fill=\"none\"/>\n",
              "    <path d=\"M18.56 5.44l.94 2.06.94-2.06 2.06-.94-2.06-.94-.94-2.06-.94 2.06-2.06.94zm-11 1L8.5 8.5l.94-2.06 2.06-.94-2.06-.94L8.5 2.5l-.94 2.06-2.06.94zm10 10l.94 2.06.94-2.06 2.06-.94-2.06-.94-.94-2.06-.94 2.06-2.06.94z\"/><path d=\"M17.41 7.96l-1.37-1.37c-.4-.4-.92-.59-1.43-.59-.52 0-1.04.2-1.43.59L10.3 9.45l-7.72 7.72c-.78.78-.78 2.05 0 2.83L4 21.41c.39.39.9.59 1.41.59.51 0 1.02-.2 1.41-.59l7.78-7.78 2.81-2.81c.8-.78.8-2.07 0-2.86zM5.41 20L4 18.59l7.72-7.72 1.47 1.35L5.41 20z\"/>\n",
              "  </svg>\n",
              "      </button>\n",
              "      \n",
              "  <style>\n",
              "    .colab-df-container {\n",
              "      display:flex;\n",
              "      flex-wrap:wrap;\n",
              "      gap: 12px;\n",
              "    }\n",
              "\n",
              "    .colab-df-convert {\n",
              "      background-color: #E8F0FE;\n",
              "      border: none;\n",
              "      border-radius: 50%;\n",
              "      cursor: pointer;\n",
              "      display: none;\n",
              "      fill: #1967D2;\n",
              "      height: 32px;\n",
              "      padding: 0 0 0 0;\n",
              "      width: 32px;\n",
              "    }\n",
              "\n",
              "    .colab-df-convert:hover {\n",
              "      background-color: #E2EBFA;\n",
              "      box-shadow: 0px 1px 2px rgba(60, 64, 67, 0.3), 0px 1px 3px 1px rgba(60, 64, 67, 0.15);\n",
              "      fill: #174EA6;\n",
              "    }\n",
              "\n",
              "    [theme=dark] .colab-df-convert {\n",
              "      background-color: #3B4455;\n",
              "      fill: #D2E3FC;\n",
              "    }\n",
              "\n",
              "    [theme=dark] .colab-df-convert:hover {\n",
              "      background-color: #434B5C;\n",
              "      box-shadow: 0px 1px 3px 1px rgba(0, 0, 0, 0.15);\n",
              "      filter: drop-shadow(0px 1px 2px rgba(0, 0, 0, 0.3));\n",
              "      fill: #FFFFFF;\n",
              "    }\n",
              "  </style>\n",
              "\n",
              "      <script>\n",
              "        const buttonEl =\n",
              "          document.querySelector('#df-4537dff6-f6a1-4499-badd-7227e6440ffb button.colab-df-convert');\n",
              "        buttonEl.style.display =\n",
              "          google.colab.kernel.accessAllowed ? 'block' : 'none';\n",
              "\n",
              "        async function convertToInteractive(key) {\n",
              "          const element = document.querySelector('#df-4537dff6-f6a1-4499-badd-7227e6440ffb');\n",
              "          const dataTable =\n",
              "            await google.colab.kernel.invokeFunction('convertToInteractive',\n",
              "                                                     [key], {});\n",
              "          if (!dataTable) return;\n",
              "\n",
              "          const docLinkHtml = 'Like what you see? Visit the ' +\n",
              "            '<a target=\"_blank\" href=https://colab.research.google.com/notebooks/data_table.ipynb>data table notebook</a>'\n",
              "            + ' to learn more about interactive tables.';\n",
              "          element.innerHTML = '';\n",
              "          dataTable['output_type'] = 'display_data';\n",
              "          await google.colab.output.renderOutput(dataTable, element);\n",
              "          const docLink = document.createElement('div');\n",
              "          docLink.innerHTML = docLinkHtml;\n",
              "          element.appendChild(docLink);\n",
              "        }\n",
              "      </script>\n",
              "    </div>\n",
              "  </div>\n",
              "  "
            ],
            "text/plain": [
              "      Tanggal  Nominal_Donasi  SARIMAX Forecast\n",
              "43 2022-08-01             0.0      4.317289e+09\n",
              "44 2022-09-01             0.0      3.987634e+09\n",
              "45 2022-10-01             0.0      4.147488e+09\n",
              "46 2022-11-01             0.0      4.136517e+09\n",
              "47 2022-12-01             0.0      4.878753e+09"
            ]
          },
          "metadata": {},
          "execution_count": 112
        }
      ]
    },
    {
      "cell_type": "markdown",
      "source": [
        "#RFM"
      ],
      "metadata": {
        "id": "38dM1r8BNskL"
      }
    },
    {
      "cell_type": "markdown",
      "source": [
        "##RFM Cust Seg"
      ],
      "metadata": {
        "id": "vj-6M_wqxm28"
      }
    },
    {
      "cell_type": "code",
      "source": [
        "##THE LAST DATE DATA\n",
        "latest_date = dt.datetime(2022,1,18)"
      ],
      "metadata": {
        "id": "OKEJ6K81N-Dh"
      },
      "execution_count": null,
      "outputs": []
    },
    {
      "cell_type": "code",
      "source": [
        "##GROUPING ID DONATUR\n",
        "RFMScore = df1.groupby('ID_Donatur').agg({'Tanggal': lambda x:(latest_date - x.max()).days, 'ID_Donasi': lambda x: len(x),'Nominal_Donasi': lambda x: x.sum()})"
      ],
      "metadata": {
        "id": "X917UliCRpBB"
      },
      "execution_count": null,
      "outputs": []
    },
    {
      "cell_type": "code",
      "source": [
        "RFMScore['Tanggal'] = RFMScore['Tanggal'].astype(int)"
      ],
      "metadata": {
        "id": "488FwK9AT_ao"
      },
      "execution_count": null,
      "outputs": []
    },
    {
      "cell_type": "code",
      "source": [
        "RFMScore.rename(columns={\"Tanggal\": \"Recency\",\n",
        "                         \"ID_Donasi\": \"Frequency\",\n",
        "                         \"Nominal_Donasi\": \"Monetary\"},inplace= True)"
      ],
      "metadata": {
        "id": "YU_tMCaTUPQg"
      },
      "execution_count": null,
      "outputs": []
    },
    {
      "cell_type": "code",
      "source": [
        "RFMScore.reset_index().head()"
      ],
      "metadata": {
        "id": "0Oaqb47LUwVJ",
        "colab": {
          "base_uri": "https://localhost:8080/",
          "height": 206
        },
        "outputId": "01d7d79f-eee5-48f1-94ce-e2df35bce377"
      },
      "execution_count": null,
      "outputs": [
        {
          "output_type": "execute_result",
          "data": {
            "text/html": [
              "\n",
              "  <div id=\"df-d5e5f00c-ed25-44e1-bee3-bf55b2e2d86c\">\n",
              "    <div class=\"colab-df-container\">\n",
              "      <div>\n",
              "<style scoped>\n",
              "    .dataframe tbody tr th:only-of-type {\n",
              "        vertical-align: middle;\n",
              "    }\n",
              "\n",
              "    .dataframe tbody tr th {\n",
              "        vertical-align: top;\n",
              "    }\n",
              "\n",
              "    .dataframe thead th {\n",
              "        text-align: right;\n",
              "    }\n",
              "</style>\n",
              "<table border=\"1\" class=\"dataframe\">\n",
              "  <thead>\n",
              "    <tr style=\"text-align: right;\">\n",
              "      <th></th>\n",
              "      <th>ID_Donatur</th>\n",
              "      <th>Recency</th>\n",
              "      <th>Frequency</th>\n",
              "      <th>Monetary</th>\n",
              "    </tr>\n",
              "  </thead>\n",
              "  <tbody>\n",
              "    <tr>\n",
              "      <th>0</th>\n",
              "      <td>000054B5-72F9-86F4-B2B3-DCDF8AE3B277</td>\n",
              "      <td>606</td>\n",
              "      <td>1</td>\n",
              "      <td>200000</td>\n",
              "    </tr>\n",
              "    <tr>\n",
              "      <th>1</th>\n",
              "      <td>000098EC-C0A2-1198-033D-DCEF62F83DA0</td>\n",
              "      <td>17</td>\n",
              "      <td>8</td>\n",
              "      <td>2000000</td>\n",
              "    </tr>\n",
              "    <tr>\n",
              "      <th>2</th>\n",
              "      <td>00019858-2827-E3C0-7EC5-6359A76A82B5</td>\n",
              "      <td>570</td>\n",
              "      <td>1</td>\n",
              "      <td>300000</td>\n",
              "    </tr>\n",
              "    <tr>\n",
              "      <th>3</th>\n",
              "      <td>00022AFA-297F-CB23-9ADA-7500A9C81206</td>\n",
              "      <td>608</td>\n",
              "      <td>2</td>\n",
              "      <td>400000</td>\n",
              "    </tr>\n",
              "    <tr>\n",
              "      <th>4</th>\n",
              "      <td>00023482-3375-FB2C-FE84-9347A8B80D3A</td>\n",
              "      <td>204</td>\n",
              "      <td>1</td>\n",
              "      <td>500000</td>\n",
              "    </tr>\n",
              "  </tbody>\n",
              "</table>\n",
              "</div>\n",
              "      <button class=\"colab-df-convert\" onclick=\"convertToInteractive('df-d5e5f00c-ed25-44e1-bee3-bf55b2e2d86c')\"\n",
              "              title=\"Convert this dataframe to an interactive table.\"\n",
              "              style=\"display:none;\">\n",
              "        \n",
              "  <svg xmlns=\"http://www.w3.org/2000/svg\" height=\"24px\"viewBox=\"0 0 24 24\"\n",
              "       width=\"24px\">\n",
              "    <path d=\"M0 0h24v24H0V0z\" fill=\"none\"/>\n",
              "    <path d=\"M18.56 5.44l.94 2.06.94-2.06 2.06-.94-2.06-.94-.94-2.06-.94 2.06-2.06.94zm-11 1L8.5 8.5l.94-2.06 2.06-.94-2.06-.94L8.5 2.5l-.94 2.06-2.06.94zm10 10l.94 2.06.94-2.06 2.06-.94-2.06-.94-.94-2.06-.94 2.06-2.06.94z\"/><path d=\"M17.41 7.96l-1.37-1.37c-.4-.4-.92-.59-1.43-.59-.52 0-1.04.2-1.43.59L10.3 9.45l-7.72 7.72c-.78.78-.78 2.05 0 2.83L4 21.41c.39.39.9.59 1.41.59.51 0 1.02-.2 1.41-.59l7.78-7.78 2.81-2.81c.8-.78.8-2.07 0-2.86zM5.41 20L4 18.59l7.72-7.72 1.47 1.35L5.41 20z\"/>\n",
              "  </svg>\n",
              "      </button>\n",
              "      \n",
              "  <style>\n",
              "    .colab-df-container {\n",
              "      display:flex;\n",
              "      flex-wrap:wrap;\n",
              "      gap: 12px;\n",
              "    }\n",
              "\n",
              "    .colab-df-convert {\n",
              "      background-color: #E8F0FE;\n",
              "      border: none;\n",
              "      border-radius: 50%;\n",
              "      cursor: pointer;\n",
              "      display: none;\n",
              "      fill: #1967D2;\n",
              "      height: 32px;\n",
              "      padding: 0 0 0 0;\n",
              "      width: 32px;\n",
              "    }\n",
              "\n",
              "    .colab-df-convert:hover {\n",
              "      background-color: #E2EBFA;\n",
              "      box-shadow: 0px 1px 2px rgba(60, 64, 67, 0.3), 0px 1px 3px 1px rgba(60, 64, 67, 0.15);\n",
              "      fill: #174EA6;\n",
              "    }\n",
              "\n",
              "    [theme=dark] .colab-df-convert {\n",
              "      background-color: #3B4455;\n",
              "      fill: #D2E3FC;\n",
              "    }\n",
              "\n",
              "    [theme=dark] .colab-df-convert:hover {\n",
              "      background-color: #434B5C;\n",
              "      box-shadow: 0px 1px 3px 1px rgba(0, 0, 0, 0.15);\n",
              "      filter: drop-shadow(0px 1px 2px rgba(0, 0, 0, 0.3));\n",
              "      fill: #FFFFFF;\n",
              "    }\n",
              "  </style>\n",
              "\n",
              "      <script>\n",
              "        const buttonEl =\n",
              "          document.querySelector('#df-d5e5f00c-ed25-44e1-bee3-bf55b2e2d86c button.colab-df-convert');\n",
              "        buttonEl.style.display =\n",
              "          google.colab.kernel.accessAllowed ? 'block' : 'none';\n",
              "\n",
              "        async function convertToInteractive(key) {\n",
              "          const element = document.querySelector('#df-d5e5f00c-ed25-44e1-bee3-bf55b2e2d86c');\n",
              "          const dataTable =\n",
              "            await google.colab.kernel.invokeFunction('convertToInteractive',\n",
              "                                                     [key], {});\n",
              "          if (!dataTable) return;\n",
              "\n",
              "          const docLinkHtml = 'Like what you see? Visit the ' +\n",
              "            '<a target=\"_blank\" href=https://colab.research.google.com/notebooks/data_table.ipynb>data table notebook</a>'\n",
              "            + ' to learn more about interactive tables.';\n",
              "          element.innerHTML = '';\n",
              "          dataTable['output_type'] = 'display_data';\n",
              "          await google.colab.output.renderOutput(dataTable, element);\n",
              "          const docLink = document.createElement('div');\n",
              "          docLink.innerHTML = docLinkHtml;\n",
              "          element.appendChild(docLink);\n",
              "        }\n",
              "      </script>\n",
              "    </div>\n",
              "  </div>\n",
              "  "
            ],
            "text/plain": [
              "                             ID_Donatur  Recency  Frequency  Monetary\n",
              "0  000054B5-72F9-86F4-B2B3-DCDF8AE3B277      606          1    200000\n",
              "1  000098EC-C0A2-1198-033D-DCEF62F83DA0       17          8   2000000\n",
              "2  00019858-2827-E3C0-7EC5-6359A76A82B5      570          1    300000\n",
              "3  00022AFA-297F-CB23-9ADA-7500A9C81206      608          2    400000\n",
              "4  00023482-3375-FB2C-FE84-9347A8B80D3A      204          1    500000"
            ]
          },
          "metadata": {},
          "execution_count": 72
        }
      ]
    },
    {
      "cell_type": "code",
      "source": [
        "#ranking data using pandas R,F,M\n",
        "RFMScore['R_rank'] = RFMScore['Recency'].rank(ascending=False)"
      ],
      "metadata": {
        "id": "GP1ecTDrBRdD"
      },
      "execution_count": null,
      "outputs": []
    },
    {
      "cell_type": "code",
      "source": [
        "RFMScore['F_rank'] = RFMScore['Frequency'].rank(ascending=True)"
      ],
      "metadata": {
        "id": "MJFJfCRpCFnW"
      },
      "execution_count": null,
      "outputs": []
    },
    {
      "cell_type": "code",
      "source": [
        "RFMScore['M_rank'] = RFMScore['Monetary'].rank(ascending=True)"
      ],
      "metadata": {
        "id": "yaoc9S4iCUMI"
      },
      "execution_count": null,
      "outputs": []
    },
    {
      "cell_type": "code",
      "source": [
        "def normaliz(a):\n",
        "  a = (a/a.max())*100\n",
        "  return a"
      ],
      "metadata": {
        "id": "gCFCl2fnChI4"
      },
      "execution_count": null,
      "outputs": []
    },
    {
      "cell_type": "code",
      "source": [
        "#Normaliz Data R,F,M\n",
        "RFMScore['R_rank_norm'] = normaliz(RFMScore['R_rank'])"
      ],
      "metadata": {
        "id": "cT-UeyD4DuQw"
      },
      "execution_count": null,
      "outputs": []
    },
    {
      "cell_type": "code",
      "source": [
        "RFMScore['F_rank_norm'] = normaliz(RFMScore['F_rank'])"
      ],
      "metadata": {
        "id": "5jqMwgosEKBh"
      },
      "execution_count": null,
      "outputs": []
    },
    {
      "cell_type": "code",
      "source": [
        "RFMScore['M_rank_norm'] = normaliz(RFMScore['M_rank'])"
      ],
      "metadata": {
        "id": "5ScTGI3yEQux"
      },
      "execution_count": null,
      "outputs": []
    },
    {
      "cell_type": "code",
      "source": [
        "#percentage for scoring data\n",
        "RFMScore[\"Final_score\"] = RFMScore['R_rank_norm']*0.15+RFMScore['F_rank_norm']* 0.28+ RFMScore['M_rank_norm']*0.57"
      ],
      "metadata": {
        "id": "GDB4Lm_5E_Gf"
      },
      "execution_count": null,
      "outputs": []
    },
    {
      "cell_type": "code",
      "source": [
        "RFMScore['Final_score'] *= 0.05"
      ],
      "metadata": {
        "id": "bivrppNtGCaM"
      },
      "execution_count": null,
      "outputs": []
    },
    {
      "cell_type": "code",
      "source": [
        "RFMScore['Final_score'] = RFMScore['Final_score'].round(2)"
      ],
      "metadata": {
        "id": "ttevt2DoGNKP"
      },
      "execution_count": null,
      "outputs": []
    },
    {
      "cell_type": "code",
      "source": [
        "RFMScore[\"Customer_segment\"] = np.where(RFMScore['Final_score'] > 4.5, \"Top Customers\",\n",
        "                                        (np.where(RFMScore['Final_score'] > 4,\"High value Customer\",\n",
        "                                                  (np.where(RFMScore['Final_score'] > 3,\"Medium Value Customer\",\n",
        "                                                            np.where(RFMScore['Final_score'] > 1.6,'Low Value Customers', \n",
        "                                                                     'Lost Customers'))))))\n"
      ],
      "metadata": {
        "id": "38i5hMR-Ge2R"
      },
      "execution_count": null,
      "outputs": []
    },
    {
      "cell_type": "code",
      "source": [
        "RFMScore.sort_values(by= 'Final_score', ascending= False, inplace= True)"
      ],
      "metadata": {
        "id": "ZAFT1OQrKlDx"
      },
      "execution_count": null,
      "outputs": []
    },
    {
      "cell_type": "code",
      "source": [
        "RFMScore.tail(10)"
      ],
      "metadata": {
        "id": "VnTHrc1WB-5T",
        "colab": {
          "base_uri": "https://localhost:8080/",
          "height": 363
        },
        "outputId": "bd73f144-cdbb-4de7-8259-44737c1435bb"
      },
      "execution_count": null,
      "outputs": [
        {
          "output_type": "execute_result",
          "data": {
            "text/html": [
              "\n",
              "  <div id=\"df-0c0a60cd-d39a-4775-8a61-1141773659e0\">\n",
              "    <div class=\"colab-df-container\">\n",
              "      <div>\n",
              "<style scoped>\n",
              "    .dataframe tbody tr th:only-of-type {\n",
              "        vertical-align: middle;\n",
              "    }\n",
              "\n",
              "    .dataframe tbody tr th {\n",
              "        vertical-align: top;\n",
              "    }\n",
              "\n",
              "    .dataframe thead th {\n",
              "        text-align: right;\n",
              "    }\n",
              "</style>\n",
              "<table border=\"1\" class=\"dataframe\">\n",
              "  <thead>\n",
              "    <tr style=\"text-align: right;\">\n",
              "      <th></th>\n",
              "      <th>ID_Donatur</th>\n",
              "      <th>Recency</th>\n",
              "      <th>Frequency</th>\n",
              "      <th>Monetary</th>\n",
              "      <th>R_rank</th>\n",
              "      <th>F_rank</th>\n",
              "      <th>M_rank</th>\n",
              "      <th>R_rank_norm</th>\n",
              "      <th>F_rank_norm</th>\n",
              "      <th>M_rank_norm</th>\n",
              "      <th>Final_score</th>\n",
              "      <th>Customer_segment</th>\n",
              "    </tr>\n",
              "  </thead>\n",
              "  <tbody>\n",
              "    <tr>\n",
              "      <th>96029</th>\n",
              "      <td>639567B9-0FE0-D1CF-AA38-D87007A8D56D</td>\n",
              "      <td>1045</td>\n",
              "      <td>1</td>\n",
              "      <td>40000</td>\n",
              "      <td>2405.0</td>\n",
              "      <td>29492.0</td>\n",
              "      <td>386.0</td>\n",
              "      <td>2.504543</td>\n",
              "      <td>30.708358</td>\n",
              "      <td>0.401920</td>\n",
              "      <td>0.46</td>\n",
              "      <td>Lost Customers</td>\n",
              "    </tr>\n",
              "    <tr>\n",
              "      <th>96030</th>\n",
              "      <td>712DE3EE-770D-2185-6D5D-961B329C0C59</td>\n",
              "      <td>1035</td>\n",
              "      <td>1</td>\n",
              "      <td>40000</td>\n",
              "      <td>2887.5</td>\n",
              "      <td>29492.0</td>\n",
              "      <td>386.0</td>\n",
              "      <td>3.007014</td>\n",
              "      <td>30.708358</td>\n",
              "      <td>0.401920</td>\n",
              "      <td>0.46</td>\n",
              "      <td>Lost Customers</td>\n",
              "    </tr>\n",
              "    <tr>\n",
              "      <th>96031</th>\n",
              "      <td>355ECA62-46A8-89C2-0B71-DD3105C6BDAA</td>\n",
              "      <td>1036</td>\n",
              "      <td>1</td>\n",
              "      <td>10000</td>\n",
              "      <td>2848.5</td>\n",
              "      <td>29492.0</td>\n",
              "      <td>62.5</td>\n",
              "      <td>2.966400</td>\n",
              "      <td>30.708358</td>\n",
              "      <td>0.065078</td>\n",
              "      <td>0.45</td>\n",
              "      <td>Lost Customers</td>\n",
              "    </tr>\n",
              "    <tr>\n",
              "      <th>96032</th>\n",
              "      <td>5230A293-B33B-6518-281C-1C2636FCCF20</td>\n",
              "      <td>1047</td>\n",
              "      <td>1</td>\n",
              "      <td>0</td>\n",
              "      <td>2279.0</td>\n",
              "      <td>29492.0</td>\n",
              "      <td>15.5</td>\n",
              "      <td>2.373328</td>\n",
              "      <td>30.708358</td>\n",
              "      <td>0.016139</td>\n",
              "      <td>0.45</td>\n",
              "      <td>Lost Customers</td>\n",
              "    </tr>\n",
              "    <tr>\n",
              "      <th>96033</th>\n",
              "      <td>47943257-77B9-B520-D224-2E3B343E982A</td>\n",
              "      <td>1077</td>\n",
              "      <td>1</td>\n",
              "      <td>25000</td>\n",
              "      <td>662.5</td>\n",
              "      <td>29492.0</td>\n",
              "      <td>147.0</td>\n",
              "      <td>0.689921</td>\n",
              "      <td>30.708358</td>\n",
              "      <td>0.153063</td>\n",
              "      <td>0.44</td>\n",
              "      <td>Lost Customers</td>\n",
              "    </tr>\n",
              "    <tr>\n",
              "      <th>96034</th>\n",
              "      <td>F6107964-568D-9F5F-68B8-DEE199134575</td>\n",
              "      <td>1059</td>\n",
              "      <td>1</td>\n",
              "      <td>9000</td>\n",
              "      <td>1596.0</td>\n",
              "      <td>29492.0</td>\n",
              "      <td>50.0</td>\n",
              "      <td>1.662059</td>\n",
              "      <td>30.708358</td>\n",
              "      <td>0.052062</td>\n",
              "      <td>0.44</td>\n",
              "      <td>Lost Customers</td>\n",
              "    </tr>\n",
              "    <tr>\n",
              "      <th>96035</th>\n",
              "      <td>D769E35C-EA05-55C2-5BE6-DA57B7B3FAF7</td>\n",
              "      <td>1055</td>\n",
              "      <td>1</td>\n",
              "      <td>0</td>\n",
              "      <td>1776.0</td>\n",
              "      <td>29492.0</td>\n",
              "      <td>15.5</td>\n",
              "      <td>1.849509</td>\n",
              "      <td>30.708358</td>\n",
              "      <td>0.016139</td>\n",
              "      <td>0.44</td>\n",
              "      <td>Lost Customers</td>\n",
              "    </tr>\n",
              "    <tr>\n",
              "      <th>96036</th>\n",
              "      <td>EAF7FA64-9482-F258-D7B1-8EED92F0D387</td>\n",
              "      <td>1081</td>\n",
              "      <td>1</td>\n",
              "      <td>10000</td>\n",
              "      <td>402.0</td>\n",
              "      <td>29492.0</td>\n",
              "      <td>62.5</td>\n",
              "      <td>0.418639</td>\n",
              "      <td>30.708358</td>\n",
              "      <td>0.065078</td>\n",
              "      <td>0.43</td>\n",
              "      <td>Lost Customers</td>\n",
              "    </tr>\n",
              "    <tr>\n",
              "      <th>96037</th>\n",
              "      <td>CFCD0EEF-3F31-3BB7-461D-1F15545B5A3B</td>\n",
              "      <td>1087</td>\n",
              "      <td>1</td>\n",
              "      <td>0</td>\n",
              "      <td>98.5</td>\n",
              "      <td>29492.0</td>\n",
              "      <td>15.5</td>\n",
              "      <td>0.102577</td>\n",
              "      <td>30.708358</td>\n",
              "      <td>0.016139</td>\n",
              "      <td>0.43</td>\n",
              "      <td>Lost Customers</td>\n",
              "    </tr>\n",
              "    <tr>\n",
              "      <th>96038</th>\n",
              "      <td>9543E619-9339-56C6-DFDC-93F89F3C256C</td>\n",
              "      <td>1091</td>\n",
              "      <td>1</td>\n",
              "      <td>1000</td>\n",
              "      <td>45.5</td>\n",
              "      <td>29492.0</td>\n",
              "      <td>39.0</td>\n",
              "      <td>0.047383</td>\n",
              "      <td>30.708358</td>\n",
              "      <td>0.040609</td>\n",
              "      <td>0.43</td>\n",
              "      <td>Lost Customers</td>\n",
              "    </tr>\n",
              "  </tbody>\n",
              "</table>\n",
              "</div>\n",
              "      <button class=\"colab-df-convert\" onclick=\"convertToInteractive('df-0c0a60cd-d39a-4775-8a61-1141773659e0')\"\n",
              "              title=\"Convert this dataframe to an interactive table.\"\n",
              "              style=\"display:none;\">\n",
              "        \n",
              "  <svg xmlns=\"http://www.w3.org/2000/svg\" height=\"24px\"viewBox=\"0 0 24 24\"\n",
              "       width=\"24px\">\n",
              "    <path d=\"M0 0h24v24H0V0z\" fill=\"none\"/>\n",
              "    <path d=\"M18.56 5.44l.94 2.06.94-2.06 2.06-.94-2.06-.94-.94-2.06-.94 2.06-2.06.94zm-11 1L8.5 8.5l.94-2.06 2.06-.94-2.06-.94L8.5 2.5l-.94 2.06-2.06.94zm10 10l.94 2.06.94-2.06 2.06-.94-2.06-.94-.94-2.06-.94 2.06-2.06.94z\"/><path d=\"M17.41 7.96l-1.37-1.37c-.4-.4-.92-.59-1.43-.59-.52 0-1.04.2-1.43.59L10.3 9.45l-7.72 7.72c-.78.78-.78 2.05 0 2.83L4 21.41c.39.39.9.59 1.41.59.51 0 1.02-.2 1.41-.59l7.78-7.78 2.81-2.81c.8-.78.8-2.07 0-2.86zM5.41 20L4 18.59l7.72-7.72 1.47 1.35L5.41 20z\"/>\n",
              "  </svg>\n",
              "      </button>\n",
              "      \n",
              "  <style>\n",
              "    .colab-df-container {\n",
              "      display:flex;\n",
              "      flex-wrap:wrap;\n",
              "      gap: 12px;\n",
              "    }\n",
              "\n",
              "    .colab-df-convert {\n",
              "      background-color: #E8F0FE;\n",
              "      border: none;\n",
              "      border-radius: 50%;\n",
              "      cursor: pointer;\n",
              "      display: none;\n",
              "      fill: #1967D2;\n",
              "      height: 32px;\n",
              "      padding: 0 0 0 0;\n",
              "      width: 32px;\n",
              "    }\n",
              "\n",
              "    .colab-df-convert:hover {\n",
              "      background-color: #E2EBFA;\n",
              "      box-shadow: 0px 1px 2px rgba(60, 64, 67, 0.3), 0px 1px 3px 1px rgba(60, 64, 67, 0.15);\n",
              "      fill: #174EA6;\n",
              "    }\n",
              "\n",
              "    [theme=dark] .colab-df-convert {\n",
              "      background-color: #3B4455;\n",
              "      fill: #D2E3FC;\n",
              "    }\n",
              "\n",
              "    [theme=dark] .colab-df-convert:hover {\n",
              "      background-color: #434B5C;\n",
              "      box-shadow: 0px 1px 3px 1px rgba(0, 0, 0, 0.15);\n",
              "      filter: drop-shadow(0px 1px 2px rgba(0, 0, 0, 0.3));\n",
              "      fill: #FFFFFF;\n",
              "    }\n",
              "  </style>\n",
              "\n",
              "      <script>\n",
              "        const buttonEl =\n",
              "          document.querySelector('#df-0c0a60cd-d39a-4775-8a61-1141773659e0 button.colab-df-convert');\n",
              "        buttonEl.style.display =\n",
              "          google.colab.kernel.accessAllowed ? 'block' : 'none';\n",
              "\n",
              "        async function convertToInteractive(key) {\n",
              "          const element = document.querySelector('#df-0c0a60cd-d39a-4775-8a61-1141773659e0');\n",
              "          const dataTable =\n",
              "            await google.colab.kernel.invokeFunction('convertToInteractive',\n",
              "                                                     [key], {});\n",
              "          if (!dataTable) return;\n",
              "\n",
              "          const docLinkHtml = 'Like what you see? Visit the ' +\n",
              "            '<a target=\"_blank\" href=https://colab.research.google.com/notebooks/data_table.ipynb>data table notebook</a>'\n",
              "            + ' to learn more about interactive tables.';\n",
              "          element.innerHTML = '';\n",
              "          dataTable['output_type'] = 'display_data';\n",
              "          await google.colab.output.renderOutput(dataTable, element);\n",
              "          const docLink = document.createElement('div');\n",
              "          docLink.innerHTML = docLinkHtml;\n",
              "          element.appendChild(docLink);\n",
              "        }\n",
              "      </script>\n",
              "    </div>\n",
              "  </div>\n",
              "  "
            ],
            "text/plain": [
              "                                 ID_Donatur  ...  Customer_segment\n",
              "96029  639567B9-0FE0-D1CF-AA38-D87007A8D56D  ...    Lost Customers\n",
              "96030  712DE3EE-770D-2185-6D5D-961B329C0C59  ...    Lost Customers\n",
              "96031  355ECA62-46A8-89C2-0B71-DD3105C6BDAA  ...    Lost Customers\n",
              "96032  5230A293-B33B-6518-281C-1C2636FCCF20  ...    Lost Customers\n",
              "96033  47943257-77B9-B520-D224-2E3B343E982A  ...    Lost Customers\n",
              "96034  F6107964-568D-9F5F-68B8-DEE199134575  ...    Lost Customers\n",
              "96035  D769E35C-EA05-55C2-5BE6-DA57B7B3FAF7  ...    Lost Customers\n",
              "96036  EAF7FA64-9482-F258-D7B1-8EED92F0D387  ...    Lost Customers\n",
              "96037  CFCD0EEF-3F31-3BB7-461D-1F15545B5A3B  ...    Lost Customers\n",
              "96038  9543E619-9339-56C6-DFDC-93F89F3C256C  ...    Lost Customers\n",
              "\n",
              "[10 rows x 12 columns]"
            ]
          },
          "metadata": {},
          "execution_count": 110
        }
      ]
    },
    {
      "cell_type": "markdown",
      "source": [
        "## Data Visualization RFM"
      ],
      "metadata": {
        "id": "HVtB6NHquLKK"
      }
    },
    {
      "cell_type": "code",
      "source": [
        "plt.pie(RFMScore.Customer_segment.value_counts(),\n",
        "        labels=RFMScore.Customer_segment.value_counts().index,\n",
        "        autopct='%.0f%%')\n",
        "plt.show()"
      ],
      "metadata": {
        "id": "y7YI4NblJeEC",
        "colab": {
          "base_uri": "https://localhost:8080/",
          "height": 248
        },
        "outputId": "e1d14f7f-4988-4d9e-e875-61c0c2fcce86"
      },
      "execution_count": null,
      "outputs": [
        {
          "output_type": "display_data",
          "data": {
            "image/png": "[encoded data removed]",
            "text/plain": [
              "<Figure size 432x288 with 1 Axes>"
            ]
          },
          "metadata": {}
        }
      ]
    },
    {
      "cell_type": "markdown",
      "source": [
        "## Data Ready To Use"
      ],
      "metadata": {
        "id": "dRC3nN4nvirZ"
      }
    },
    {
      "cell_type": "code",
      "source": [
        "RFMScore.reset_index(inplace=True)"
      ],
      "metadata": {
        "id": "OCRJItkGvwYE"
      },
      "execution_count": null,
      "outputs": []
    },
    {
      "cell_type": "code",
      "source": [
        "#TAKE DATA FROM RFM MERGE\n",
        "RFM_merge = RFMScore[['ID_Donatur','Customer_segment']]"
      ],
      "metadata": {
        "id": "iTB05H0rwwOk"
      },
      "execution_count": null,
      "outputs": []
    },
    {
      "cell_type": "code",
      "source": [
        "RFM_merge.head(2)"
      ],
      "metadata": {
        "colab": {
          "base_uri": "https://localhost:8080/",
          "height": 112
        },
        "id": "bBdN7ZPRxDIk",
        "outputId": "10f9c907-cfa4-42c7-c25a-5adf640954e9"
      },
      "execution_count": null,
      "outputs": [
        {
          "output_type": "execute_result",
          "data": {
            "text/html": [
              "\n",
              "  <div id=\"df-260099f3-6d03-4ff1-9568-f148fcb9e5b2\">\n",
              "    <div class=\"colab-df-container\">\n",
              "      <div>\n",
              "<style scoped>\n",
              "    .dataframe tbody tr th:only-of-type {\n",
              "        vertical-align: middle;\n",
              "    }\n",
              "\n",
              "    .dataframe tbody tr th {\n",
              "        vertical-align: top;\n",
              "    }\n",
              "\n",
              "    .dataframe thead th {\n",
              "        text-align: right;\n",
              "    }\n",
              "</style>\n",
              "<table border=\"1\" class=\"dataframe\">\n",
              "  <thead>\n",
              "    <tr style=\"text-align: right;\">\n",
              "      <th></th>\n",
              "      <th>ID_Donatur</th>\n",
              "      <th>Customer_segment</th>\n",
              "    </tr>\n",
              "  </thead>\n",
              "  <tbody>\n",
              "    <tr>\n",
              "      <th>0</th>\n",
              "      <td>68617AC1-15B7-7FA5-6327-30C3A02C7EB9</td>\n",
              "      <td>Top Customers</td>\n",
              "    </tr>\n",
              "    <tr>\n",
              "      <th>1</th>\n",
              "      <td>44C08D74-2BF7-8859-F337-FDD812239831</td>\n",
              "      <td>Top Customers</td>\n",
              "    </tr>\n",
              "  </tbody>\n",
              "</table>\n",
              "</div>\n",
              "      <button class=\"colab-df-convert\" onclick=\"convertToInteractive('df-260099f3-6d03-4ff1-9568-f148fcb9e5b2')\"\n",
              "              title=\"Convert this dataframe to an interactive table.\"\n",
              "              style=\"display:none;\">\n",
              "        \n",
              "  <svg xmlns=\"http://www.w3.org/2000/svg\" height=\"24px\"viewBox=\"0 0 24 24\"\n",
              "       width=\"24px\">\n",
              "    <path d=\"M0 0h24v24H0V0z\" fill=\"none\"/>\n",
              "    <path d=\"M18.56 5.44l.94 2.06.94-2.06 2.06-.94-2.06-.94-.94-2.06-.94 2.06-2.06.94zm-11 1L8.5 8.5l.94-2.06 2.06-.94-2.06-.94L8.5 2.5l-.94 2.06-2.06.94zm10 10l.94 2.06.94-2.06 2.06-.94-2.06-.94-.94-2.06-.94 2.06-2.06.94z\"/><path d=\"M17.41 7.96l-1.37-1.37c-.4-.4-.92-.59-1.43-.59-.52 0-1.04.2-1.43.59L10.3 9.45l-7.72 7.72c-.78.78-.78 2.05 0 2.83L4 21.41c.39.39.9.59 1.41.59.51 0 1.02-.2 1.41-.59l7.78-7.78 2.81-2.81c.8-.78.8-2.07 0-2.86zM5.41 20L4 18.59l7.72-7.72 1.47 1.35L5.41 20z\"/>\n",
              "  </svg>\n",
              "      </button>\n",
              "      \n",
              "  <style>\n",
              "    .colab-df-container {\n",
              "      display:flex;\n",
              "      flex-wrap:wrap;\n",
              "      gap: 12px;\n",
              "    }\n",
              "\n",
              "    .colab-df-convert {\n",
              "      background-color: #E8F0FE;\n",
              "      border: none;\n",
              "      border-radius: 50%;\n",
              "      cursor: pointer;\n",
              "      display: none;\n",
              "      fill: #1967D2;\n",
              "      height: 32px;\n",
              "      padding: 0 0 0 0;\n",
              "      width: 32px;\n",
              "    }\n",
              "\n",
              "    .colab-df-convert:hover {\n",
              "      background-color: #E2EBFA;\n",
              "      box-shadow: 0px 1px 2px rgba(60, 64, 67, 0.3), 0px 1px 3px 1px rgba(60, 64, 67, 0.15);\n",
              "      fill: #174EA6;\n",
              "    }\n",
              "\n",
              "    [theme=dark] .colab-df-convert {\n",
              "      background-color: #3B4455;\n",
              "      fill: #D2E3FC;\n",
              "    }\n",
              "\n",
              "    [theme=dark] .colab-df-convert:hover {\n",
              "      background-color: #434B5C;\n",
              "      box-shadow: 0px 1px 3px 1px rgba(0, 0, 0, 0.15);\n",
              "      filter: drop-shadow(0px 1px 2px rgba(0, 0, 0, 0.3));\n",
              "      fill: #FFFFFF;\n",
              "    }\n",
              "  </style>\n",
              "\n",
              "      <script>\n",
              "        const buttonEl =\n",
              "          document.querySelector('#df-260099f3-6d03-4ff1-9568-f148fcb9e5b2 button.colab-df-convert');\n",
              "        buttonEl.style.display =\n",
              "          google.colab.kernel.accessAllowed ? 'block' : 'none';\n",
              "\n",
              "        async function convertToInteractive(key) {\n",
              "          const element = document.querySelector('#df-260099f3-6d03-4ff1-9568-f148fcb9e5b2');\n",
              "          const dataTable =\n",
              "            await google.colab.kernel.invokeFunction('convertToInteractive',\n",
              "                                                     [key], {});\n",
              "          if (!dataTable) return;\n",
              "\n",
              "          const docLinkHtml = 'Like what you see? Visit the ' +\n",
              "            '<a target=\"_blank\" href=https://colab.research.google.com/notebooks/data_table.ipynb>data table notebook</a>'\n",
              "            + ' to learn more about interactive tables.';\n",
              "          element.innerHTML = '';\n",
              "          dataTable['output_type'] = 'display_data';\n",
              "          await google.colab.output.renderOutput(dataTable, element);\n",
              "          const docLink = document.createElement('div');\n",
              "          docLink.innerHTML = docLinkHtml;\n",
              "          element.appendChild(docLink);\n",
              "        }\n",
              "      </script>\n",
              "    </div>\n",
              "  </div>\n",
              "  "
            ],
            "text/plain": [
              "                             ID_Donatur Customer_segment\n",
              "0  68617AC1-15B7-7FA5-6327-30C3A02C7EB9    Top Customers\n",
              "1  44C08D74-2BF7-8859-F337-FDD812239831    Top Customers"
            ]
          },
          "metadata": {},
          "execution_count": 89
        }
      ]
    },
    {
      "cell_type": "code",
      "source": [
        "df1.head(2)"
      ],
      "metadata": {
        "colab": {
          "base_uri": "https://localhost:8080/",
          "height": 191
        },
        "id": "o7BOQDi8x1WJ",
        "outputId": "e9e16966-cf6f-44de-d1b8-9a34f0ae4666"
      },
      "execution_count": null,
      "outputs": [
        {
          "output_type": "execute_result",
          "data": {
            "text/html": [
              "\n",
              "  <div id=\"df-7a86d31d-2d77-4207-ae9c-c9c727244dd2\">\n",
              "    <div class=\"colab-df-container\">\n",
              "      <div>\n",
              "<style scoped>\n",
              "    .dataframe tbody tr th:only-of-type {\n",
              "        vertical-align: middle;\n",
              "    }\n",
              "\n",
              "    .dataframe tbody tr th {\n",
              "        vertical-align: top;\n",
              "    }\n",
              "\n",
              "    .dataframe thead th {\n",
              "        text-align: right;\n",
              "    }\n",
              "</style>\n",
              "<table border=\"1\" class=\"dataframe\">\n",
              "  <thead>\n",
              "    <tr style=\"text-align: right;\">\n",
              "      <th></th>\n",
              "      <th>ID_Donatur</th>\n",
              "      <th>Nama_Donatur</th>\n",
              "      <th>muzaki</th>\n",
              "      <th>ID_Donasi</th>\n",
              "      <th>Tanggal</th>\n",
              "      <th>Akad</th>\n",
              "      <th>Program</th>\n",
              "      <th>Metode_Pembayaran</th>\n",
              "      <th>Nominal_Donasi</th>\n",
              "      <th>Kantor_Pelayanan</th>\n",
              "    </tr>\n",
              "  </thead>\n",
              "  <tbody>\n",
              "    <tr>\n",
              "      <th>159617</th>\n",
              "      <td>0AD64182-16C2-9675-EB4A-2F4C75A0AD49</td>\n",
              "      <td>EFENDI</td>\n",
              "      <td>Efendi</td>\n",
              "      <td>800303FA-C94B-DF0A-7C44-0C37F8F3B1CF</td>\n",
              "      <td>2019-01-01 20:45:00</td>\n",
              "      <td>Sedekah</td>\n",
              "      <td>No Category</td>\n",
              "      <td>Tunai</td>\n",
              "      <td>200000</td>\n",
              "      <td>KP044</td>\n",
              "    </tr>\n",
              "    <tr>\n",
              "      <th>245763</th>\n",
              "      <td>0427EF05-ABFD-EB37-243C-580C687BE822</td>\n",
              "      <td>EMI ANGGRAENI</td>\n",
              "      <td>EMI ANGGRAENI</td>\n",
              "      <td>DD51B141-16D1-CDA0-22F8-40E75D0799D1</td>\n",
              "      <td>2019-01-02 16:00:00</td>\n",
              "      <td>Zakat</td>\n",
              "      <td>No Category</td>\n",
              "      <td>Tunai</td>\n",
              "      <td>200000</td>\n",
              "      <td>KP044</td>\n",
              "    </tr>\n",
              "  </tbody>\n",
              "</table>\n",
              "</div>\n",
              "      <button class=\"colab-df-convert\" onclick=\"convertToInteractive('df-7a86d31d-2d77-4207-ae9c-c9c727244dd2')\"\n",
              "              title=\"Convert this dataframe to an interactive table.\"\n",
              "              style=\"display:none;\">\n",
              "        \n",
              "  <svg xmlns=\"http://www.w3.org/2000/svg\" height=\"24px\"viewBox=\"0 0 24 24\"\n",
              "       width=\"24px\">\n",
              "    <path d=\"M0 0h24v24H0V0z\" fill=\"none\"/>\n",
              "    <path d=\"M18.56 5.44l.94 2.06.94-2.06 2.06-.94-2.06-.94-.94-2.06-.94 2.06-2.06.94zm-11 1L8.5 8.5l.94-2.06 2.06-.94-2.06-.94L8.5 2.5l-.94 2.06-2.06.94zm10 10l.94 2.06.94-2.06 2.06-.94-2.06-.94-.94-2.06-.94 2.06-2.06.94z\"/><path d=\"M17.41 7.96l-1.37-1.37c-.4-.4-.92-.59-1.43-.59-.52 0-1.04.2-1.43.59L10.3 9.45l-7.72 7.72c-.78.78-.78 2.05 0 2.83L4 21.41c.39.39.9.59 1.41.59.51 0 1.02-.2 1.41-.59l7.78-7.78 2.81-2.81c.8-.78.8-2.07 0-2.86zM5.41 20L4 18.59l7.72-7.72 1.47 1.35L5.41 20z\"/>\n",
              "  </svg>\n",
              "      </button>\n",
              "      \n",
              "  <style>\n",
              "    .colab-df-container {\n",
              "      display:flex;\n",
              "      flex-wrap:wrap;\n",
              "      gap: 12px;\n",
              "    }\n",
              "\n",
              "    .colab-df-convert {\n",
              "      background-color: #E8F0FE;\n",
              "      border: none;\n",
              "      border-radius: 50%;\n",
              "      cursor: pointer;\n",
              "      display: none;\n",
              "      fill: #1967D2;\n",
              "      height: 32px;\n",
              "      padding: 0 0 0 0;\n",
              "      width: 32px;\n",
              "    }\n",
              "\n",
              "    .colab-df-convert:hover {\n",
              "      background-color: #E2EBFA;\n",
              "      box-shadow: 0px 1px 2px rgba(60, 64, 67, 0.3), 0px 1px 3px 1px rgba(60, 64, 67, 0.15);\n",
              "      fill: #174EA6;\n",
              "    }\n",
              "\n",
              "    [theme=dark] .colab-df-convert {\n",
              "      background-color: #3B4455;\n",
              "      fill: #D2E3FC;\n",
              "    }\n",
              "\n",
              "    [theme=dark] .colab-df-convert:hover {\n",
              "      background-color: #434B5C;\n",
              "      box-shadow: 0px 1px 3px 1px rgba(0, 0, 0, 0.15);\n",
              "      filter: drop-shadow(0px 1px 2px rgba(0, 0, 0, 0.3));\n",
              "      fill: #FFFFFF;\n",
              "    }\n",
              "  </style>\n",
              "\n",
              "      <script>\n",
              "        const buttonEl =\n",
              "          document.querySelector('#df-7a86d31d-2d77-4207-ae9c-c9c727244dd2 button.colab-df-convert');\n",
              "        buttonEl.style.display =\n",
              "          google.colab.kernel.accessAllowed ? 'block' : 'none';\n",
              "\n",
              "        async function convertToInteractive(key) {\n",
              "          const element = document.querySelector('#df-7a86d31d-2d77-4207-ae9c-c9c727244dd2');\n",
              "          const dataTable =\n",
              "            await google.colab.kernel.invokeFunction('convertToInteractive',\n",
              "                                                     [key], {});\n",
              "          if (!dataTable) return;\n",
              "\n",
              "          const docLinkHtml = 'Like what you see? Visit the ' +\n",
              "            '<a target=\"_blank\" href=https://colab.research.google.com/notebooks/data_table.ipynb>data table notebook</a>'\n",
              "            + ' to learn more about interactive tables.';\n",
              "          element.innerHTML = '';\n",
              "          dataTable['output_type'] = 'display_data';\n",
              "          await google.colab.output.renderOutput(dataTable, element);\n",
              "          const docLink = document.createElement('div');\n",
              "          docLink.innerHTML = docLinkHtml;\n",
              "          element.appendChild(docLink);\n",
              "        }\n",
              "      </script>\n",
              "    </div>\n",
              "  </div>\n",
              "  "
            ],
            "text/plain": [
              "                                  ID_Donatur  ... Kantor_Pelayanan\n",
              "159617  0AD64182-16C2-9675-EB4A-2F4C75A0AD49  ...            KP044\n",
              "245763  0427EF05-ABFD-EB37-243C-580C687BE822  ...            KP044\n",
              "\n",
              "[2 rows x 10 columns]"
            ]
          },
          "metadata": {},
          "execution_count": 90
        }
      ]
    },
    {
      "cell_type": "code",
      "source": [
        "df1 = df1.merge(RFM_merge, how= 'left', on= 'ID_Donatur')"
      ],
      "metadata": {
        "id": "hVyaNCGTyW20"
      },
      "execution_count": null,
      "outputs": []
    },
    {
      "cell_type": "code",
      "source": [
        "#CHECK MISSING VALUE \n",
        "df1.isna().sum()"
      ],
      "metadata": {
        "colab": {
          "base_uri": "https://localhost:8080/"
        },
        "id": "isvGoXbWy9mp",
        "outputId": "601e1dac-bc2d-40db-c58b-2f6747b297fb"
      },
      "execution_count": null,
      "outputs": [
        {
          "output_type": "execute_result",
          "data": {
            "text/plain": [
              "ID_Donatur           0\n",
              "Nama_Donatur         0\n",
              "muzaki               0\n",
              "ID_Donasi            0\n",
              "Tanggal              0\n",
              "Akad                 0\n",
              "Program              0\n",
              "Metode_Pembayaran    0\n",
              "Nominal_Donasi       0\n",
              "Kantor_Pelayanan     0\n",
              "Customer_segment     0\n",
              "dtype: int64"
            ]
          },
          "metadata": {},
          "execution_count": 92
        }
      ]
    },
    {
      "cell_type": "code",
      "source": [
        "df1.dtypes"
      ],
      "metadata": {
        "colab": {
          "base_uri": "https://localhost:8080/"
        },
        "id": "xBoRsF055VeI",
        "outputId": "f73d52f7-3f4f-4cc3-9af0-371ca59f5f70"
      },
      "execution_count": null,
      "outputs": [
        {
          "output_type": "execute_result",
          "data": {
            "text/plain": [
              "ID_Donatur                   object\n",
              "Nama_Donatur                 object\n",
              "muzaki                       object\n",
              "ID_Donasi                    object\n",
              "Tanggal              datetime64[ns]\n",
              "Akad                         object\n",
              "Program                      object\n",
              "Metode_Pembayaran            object\n",
              "Nominal_Donasi                int64\n",
              "Kantor_Pelayanan             object\n",
              "Customer_segment             object\n",
              "dtype: object"
            ]
          },
          "metadata": {},
          "execution_count": 93
        }
      ]
    },
    {
      "cell_type": "code",
      "source": [
        "df1.drop(columns=['Nama_Donatur', 'muzaki', 'ID_Donasi'] , inplace=True)"
      ],
      "metadata": {
        "id": "Oo6IljNk6_cm"
      },
      "execution_count": null,
      "outputs": []
    },
    {
      "cell_type": "markdown",
      "source": [
        "#FINAL DATASET FOR DASHBOARD"
      ],
      "metadata": {
        "id": "8bJijzGjzrTu"
      }
    },
    {
      "cell_type": "code",
      "source": [
        "#EXPROT TO CSV\n",
        "df1.to_csv('FINAL DATASET3.csv', index=False)"
      ],
      "metadata": {
        "id": "0kKKJ422zLIS"
      },
      "execution_count": null,
      "outputs": []
    },
    {
      "cell_type": "code",
      "source": [
        "df_concat.to_csv('concat.csv', index=False)"
      ],
      "metadata": {
        "id": "WfYcIs2S7aVR"
      },
      "execution_count": null,
      "outputs": []
    }
  ]
}